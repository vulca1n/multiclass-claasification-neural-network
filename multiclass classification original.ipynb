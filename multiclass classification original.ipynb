{
 "cells": [
  {
   "cell_type": "markdown",
   "id": "799d579e",
   "metadata": {},
   "source": [
    "## Importing necessary libraries"
   ]
  },
  {
   "cell_type": "code",
   "execution_count": 1,
   "id": "a7e612f1",
   "metadata": {
    "ExecuteTime": {
     "end_time": "2022-06-10T19:19:50.546498Z",
     "start_time": "2022-06-10T19:19:48.917317Z"
    }
   },
   "outputs": [],
   "source": [
    "import pandas as pd\n",
    "import numpy as np\n",
    "import matplotlib.pyplot as plt\n",
    "import seaborn as sns\n",
    "from tqdm import tqdm\n",
    "from sklearn.metrics import accuracy_score, log_loss"
   ]
  },
  {
   "cell_type": "code",
   "execution_count": 2,
   "id": "3ff6ca53",
   "metadata": {
    "ExecuteTime": {
     "end_time": "2022-06-10T19:19:52.830189Z",
     "start_time": "2022-06-10T19:19:50.548471Z"
    }
   },
   "outputs": [],
   "source": [
    "import tensorflow as tf\n",
    "from sklearn.model_selection import train_test_split\n",
    "from sklearn.metrics import classification_report,confusion_matrix\n",
    "from keras.callbacks import ReduceLROnPlateau\n",
    "from keras.utils import to_categorical\n",
    "from keras.models import Sequential\n",
    "from keras.layers import Dense\n",
    "from keras.layers import Dropout\n",
    "import keras\n",
    "from keras.callbacks import EarlyStopping"
   ]
  },
  {
   "cell_type": "markdown",
   "id": "4fbec0fe",
   "metadata": {},
   "source": [
    "## Importing the dataset +preprocessing"
   ]
  },
  {
   "cell_type": "code",
   "execution_count": 3,
   "id": "1df6465a",
   "metadata": {
    "ExecuteTime": {
     "end_time": "2022-06-10T19:19:53.629674Z",
     "start_time": "2022-06-10T19:19:52.831188Z"
    }
   },
   "outputs": [],
   "source": [
    "data=pd.read_excel(\"Truss Structure Dataset5.xlsx\")"
   ]
  },
  {
   "cell_type": "code",
   "execution_count": 4,
   "id": "23e9127c",
   "metadata": {
    "ExecuteTime": {
     "end_time": "2022-06-10T19:19:53.660616Z",
     "start_time": "2022-06-10T19:19:53.631667Z"
    }
   },
   "outputs": [
    {
     "data": {
      "text/html": [
       "<div>\n",
       "<style scoped>\n",
       "    .dataframe tbody tr th:only-of-type {\n",
       "        vertical-align: middle;\n",
       "    }\n",
       "\n",
       "    .dataframe tbody tr th {\n",
       "        vertical-align: top;\n",
       "    }\n",
       "\n",
       "    .dataframe thead th {\n",
       "        text-align: right;\n",
       "    }\n",
       "</style>\n",
       "<table border=\"1\" class=\"dataframe\">\n",
       "  <thead>\n",
       "    <tr style=\"text-align: right;\">\n",
       "      <th></th>\n",
       "      <th>1</th>\n",
       "      <th>2</th>\n",
       "      <th>3</th>\n",
       "      <th>4</th>\n",
       "      <th>5</th>\n",
       "      <th>6</th>\n",
       "      <th>7</th>\n",
       "      <th>8</th>\n",
       "      <th>9</th>\n",
       "      <th>10</th>\n",
       "      <th>11</th>\n",
       "      <th>Energie</th>\n",
       "    </tr>\n",
       "  </thead>\n",
       "  <tbody>\n",
       "    <tr>\n",
       "      <th>0</th>\n",
       "      <td>0.099815</td>\n",
       "      <td>0.228368</td>\n",
       "      <td>0.345872</td>\n",
       "      <td>0.624538</td>\n",
       "      <td>0.142454</td>\n",
       "      <td>0.879926</td>\n",
       "      <td>0.278901</td>\n",
       "      <td>0.042190</td>\n",
       "      <td>0.309162</td>\n",
       "      <td>0.142338</td>\n",
       "      <td>0.056164</td>\n",
       "      <td>518.872265</td>\n",
       "    </tr>\n",
       "    <tr>\n",
       "      <th>1</th>\n",
       "      <td>0.652435</td>\n",
       "      <td>0.338497</td>\n",
       "      <td>0.528984</td>\n",
       "      <td>0.929300</td>\n",
       "      <td>0.717652</td>\n",
       "      <td>0.982095</td>\n",
       "      <td>0.288384</td>\n",
       "      <td>0.638467</td>\n",
       "      <td>0.456471</td>\n",
       "      <td>0.266632</td>\n",
       "      <td>0.401482</td>\n",
       "      <td>165.554977</td>\n",
       "    </tr>\n",
       "    <tr>\n",
       "      <th>2</th>\n",
       "      <td>0.432553</td>\n",
       "      <td>0.295737</td>\n",
       "      <td>0.423880</td>\n",
       "      <td>0.339616</td>\n",
       "      <td>0.712478</td>\n",
       "      <td>0.649861</td>\n",
       "      <td>0.771156</td>\n",
       "      <td>0.426203</td>\n",
       "      <td>0.954350</td>\n",
       "      <td>0.057775</td>\n",
       "      <td>0.922045</td>\n",
       "      <td>117.870193</td>\n",
       "    </tr>\n",
       "    <tr>\n",
       "      <th>3</th>\n",
       "      <td>0.117110</td>\n",
       "      <td>0.986492</td>\n",
       "      <td>0.993167</td>\n",
       "      <td>0.825934</td>\n",
       "      <td>0.150742</td>\n",
       "      <td>0.243278</td>\n",
       "      <td>0.627288</td>\n",
       "      <td>0.106435</td>\n",
       "      <td>0.022050</td>\n",
       "      <td>0.099280</td>\n",
       "      <td>0.325902</td>\n",
       "      <td>341.659101</td>\n",
       "    </tr>\n",
       "    <tr>\n",
       "      <th>4</th>\n",
       "      <td>0.815013</td>\n",
       "      <td>0.781523</td>\n",
       "      <td>0.310091</td>\n",
       "      <td>0.457499</td>\n",
       "      <td>0.137949</td>\n",
       "      <td>0.667795</td>\n",
       "      <td>0.327419</td>\n",
       "      <td>0.954475</td>\n",
       "      <td>0.559774</td>\n",
       "      <td>0.177299</td>\n",
       "      <td>0.044959</td>\n",
       "      <td>290.170068</td>\n",
       "    </tr>\n",
       "    <tr>\n",
       "      <th>...</th>\n",
       "      <td>...</td>\n",
       "      <td>...</td>\n",
       "      <td>...</td>\n",
       "      <td>...</td>\n",
       "      <td>...</td>\n",
       "      <td>...</td>\n",
       "      <td>...</td>\n",
       "      <td>...</td>\n",
       "      <td>...</td>\n",
       "      <td>...</td>\n",
       "      <td>...</td>\n",
       "      <td>...</td>\n",
       "    </tr>\n",
       "    <tr>\n",
       "      <th>4995</th>\n",
       "      <td>0.278034</td>\n",
       "      <td>0.851066</td>\n",
       "      <td>0.748335</td>\n",
       "      <td>0.556791</td>\n",
       "      <td>0.936020</td>\n",
       "      <td>0.309689</td>\n",
       "      <td>0.630071</td>\n",
       "      <td>0.129263</td>\n",
       "      <td>0.688559</td>\n",
       "      <td>0.322336</td>\n",
       "      <td>0.812322</td>\n",
       "      <td>130.367264</td>\n",
       "    </tr>\n",
       "    <tr>\n",
       "      <th>4996</th>\n",
       "      <td>0.099759</td>\n",
       "      <td>0.204540</td>\n",
       "      <td>0.458030</td>\n",
       "      <td>0.541461</td>\n",
       "      <td>0.210590</td>\n",
       "      <td>0.149072</td>\n",
       "      <td>0.235912</td>\n",
       "      <td>0.949228</td>\n",
       "      <td>0.733902</td>\n",
       "      <td>0.900062</td>\n",
       "      <td>0.681355</td>\n",
       "      <td>293.567561</td>\n",
       "    </tr>\n",
       "    <tr>\n",
       "      <th>4997</th>\n",
       "      <td>0.067955</td>\n",
       "      <td>0.535832</td>\n",
       "      <td>0.789917</td>\n",
       "      <td>0.355671</td>\n",
       "      <td>0.708792</td>\n",
       "      <td>0.786499</td>\n",
       "      <td>0.493599</td>\n",
       "      <td>0.612711</td>\n",
       "      <td>0.892152</td>\n",
       "      <td>0.400147</td>\n",
       "      <td>0.942253</td>\n",
       "      <td>265.846487</td>\n",
       "    </tr>\n",
       "    <tr>\n",
       "      <th>4998</th>\n",
       "      <td>0.939288</td>\n",
       "      <td>0.854816</td>\n",
       "      <td>0.060806</td>\n",
       "      <td>0.733868</td>\n",
       "      <td>0.205844</td>\n",
       "      <td>0.958229</td>\n",
       "      <td>0.872695</td>\n",
       "      <td>0.410148</td>\n",
       "      <td>0.446200</td>\n",
       "      <td>0.272260</td>\n",
       "      <td>0.700935</td>\n",
       "      <td>90.571360</td>\n",
       "    </tr>\n",
       "    <tr>\n",
       "      <th>4999</th>\n",
       "      <td>0.174968</td>\n",
       "      <td>0.192618</td>\n",
       "      <td>0.601849</td>\n",
       "      <td>0.754898</td>\n",
       "      <td>0.414362</td>\n",
       "      <td>0.948585</td>\n",
       "      <td>0.947988</td>\n",
       "      <td>0.325859</td>\n",
       "      <td>0.398166</td>\n",
       "      <td>0.978280</td>\n",
       "      <td>0.664399</td>\n",
       "      <td>183.201924</td>\n",
       "    </tr>\n",
       "  </tbody>\n",
       "</table>\n",
       "<p>5000 rows × 12 columns</p>\n",
       "</div>"
      ],
      "text/plain": [
       "             1         2         3         4         5         6         7  \\\n",
       "0     0.099815  0.228368  0.345872  0.624538  0.142454  0.879926  0.278901   \n",
       "1     0.652435  0.338497  0.528984  0.929300  0.717652  0.982095  0.288384   \n",
       "2     0.432553  0.295737  0.423880  0.339616  0.712478  0.649861  0.771156   \n",
       "3     0.117110  0.986492  0.993167  0.825934  0.150742  0.243278  0.627288   \n",
       "4     0.815013  0.781523  0.310091  0.457499  0.137949  0.667795  0.327419   \n",
       "...        ...       ...       ...       ...       ...       ...       ...   \n",
       "4995  0.278034  0.851066  0.748335  0.556791  0.936020  0.309689  0.630071   \n",
       "4996  0.099759  0.204540  0.458030  0.541461  0.210590  0.149072  0.235912   \n",
       "4997  0.067955  0.535832  0.789917  0.355671  0.708792  0.786499  0.493599   \n",
       "4998  0.939288  0.854816  0.060806  0.733868  0.205844  0.958229  0.872695   \n",
       "4999  0.174968  0.192618  0.601849  0.754898  0.414362  0.948585  0.947988   \n",
       "\n",
       "             8         9        10        11     Energie  \n",
       "0     0.042190  0.309162  0.142338  0.056164  518.872265  \n",
       "1     0.638467  0.456471  0.266632  0.401482  165.554977  \n",
       "2     0.426203  0.954350  0.057775  0.922045  117.870193  \n",
       "3     0.106435  0.022050  0.099280  0.325902  341.659101  \n",
       "4     0.954475  0.559774  0.177299  0.044959  290.170068  \n",
       "...        ...       ...       ...       ...         ...  \n",
       "4995  0.129263  0.688559  0.322336  0.812322  130.367264  \n",
       "4996  0.949228  0.733902  0.900062  0.681355  293.567561  \n",
       "4997  0.612711  0.892152  0.400147  0.942253  265.846487  \n",
       "4998  0.410148  0.446200  0.272260  0.700935   90.571360  \n",
       "4999  0.325859  0.398166  0.978280  0.664399  183.201924  \n",
       "\n",
       "[5000 rows x 12 columns]"
      ]
     },
     "metadata": {},
     "output_type": "display_data"
    }
   ],
   "source": [
    "display(data)"
   ]
  },
  {
   "cell_type": "code",
   "execution_count": 5,
   "id": "8ec748f1",
   "metadata": {
    "ExecuteTime": {
     "end_time": "2022-06-10T19:19:53.675550Z",
     "start_time": "2022-06-10T19:19:53.661588Z"
    }
   },
   "outputs": [],
   "source": [
    "def normalize(df):\n",
    "    result = df.copy()\n",
    "    for feature_name in df.columns:\n",
    "        max_value = df[feature_name].max()\n",
    "        min_value = df[feature_name].min()\n",
    "        result[feature_name] = (df[feature_name] - min_value) / (max_value - min_value)\n",
    "    return result\n",
    "data=normalize(data)"
   ]
  },
  {
   "cell_type": "code",
   "execution_count": 6,
   "id": "815030ba",
   "metadata": {
    "ExecuteTime": {
     "end_time": "2022-06-10T19:19:53.707006Z",
     "start_time": "2022-06-10T19:19:53.677545Z"
    }
   },
   "outputs": [
    {
     "data": {
      "text/html": [
       "<div>\n",
       "<style scoped>\n",
       "    .dataframe tbody tr th:only-of-type {\n",
       "        vertical-align: middle;\n",
       "    }\n",
       "\n",
       "    .dataframe tbody tr th {\n",
       "        vertical-align: top;\n",
       "    }\n",
       "\n",
       "    .dataframe thead th {\n",
       "        text-align: right;\n",
       "    }\n",
       "</style>\n",
       "<table border=\"1\" class=\"dataframe\">\n",
       "  <thead>\n",
       "    <tr style=\"text-align: right;\">\n",
       "      <th></th>\n",
       "      <th>1</th>\n",
       "      <th>2</th>\n",
       "      <th>3</th>\n",
       "      <th>4</th>\n",
       "      <th>5</th>\n",
       "      <th>6</th>\n",
       "      <th>7</th>\n",
       "      <th>8</th>\n",
       "      <th>9</th>\n",
       "      <th>10</th>\n",
       "      <th>11</th>\n",
       "      <th>Energie</th>\n",
       "    </tr>\n",
       "  </thead>\n",
       "  <tbody>\n",
       "    <tr>\n",
       "      <th>0</th>\n",
       "      <td>0.099799</td>\n",
       "      <td>0.228298</td>\n",
       "      <td>0.345749</td>\n",
       "      <td>0.624618</td>\n",
       "      <td>0.142054</td>\n",
       "      <td>0.880068</td>\n",
       "      <td>0.278746</td>\n",
       "      <td>0.042195</td>\n",
       "      <td>0.309173</td>\n",
       "      <td>0.142112</td>\n",
       "      <td>0.055976</td>\n",
       "      <td>0.049293</td>\n",
       "    </tr>\n",
       "    <tr>\n",
       "      <th>1</th>\n",
       "      <td>0.652650</td>\n",
       "      <td>0.338442</td>\n",
       "      <td>0.528934</td>\n",
       "      <td>0.929469</td>\n",
       "      <td>0.717587</td>\n",
       "      <td>0.982313</td>\n",
       "      <td>0.288232</td>\n",
       "      <td>0.638605</td>\n",
       "      <td>0.456585</td>\n",
       "      <td>0.266482</td>\n",
       "      <td>0.401493</td>\n",
       "      <td>0.009587</td>\n",
       "    </tr>\n",
       "    <tr>\n",
       "      <th>2</th>\n",
       "      <td>0.432676</td>\n",
       "      <td>0.295676</td>\n",
       "      <td>0.423789</td>\n",
       "      <td>0.339612</td>\n",
       "      <td>0.712410</td>\n",
       "      <td>0.649835</td>\n",
       "      <td>0.771151</td>\n",
       "      <td>0.426294</td>\n",
       "      <td>0.954812</td>\n",
       "      <td>0.057497</td>\n",
       "      <td>0.922355</td>\n",
       "      <td>0.004228</td>\n",
       "    </tr>\n",
       "    <tr>\n",
       "      <th>3</th>\n",
       "      <td>0.117102</td>\n",
       "      <td>0.986522</td>\n",
       "      <td>0.993302</td>\n",
       "      <td>0.826073</td>\n",
       "      <td>0.150347</td>\n",
       "      <td>0.242954</td>\n",
       "      <td>0.627239</td>\n",
       "      <td>0.106455</td>\n",
       "      <td>0.021860</td>\n",
       "      <td>0.099027</td>\n",
       "      <td>0.325869</td>\n",
       "      <td>0.029378</td>\n",
       "    </tr>\n",
       "    <tr>\n",
       "      <th>4</th>\n",
       "      <td>0.815295</td>\n",
       "      <td>0.781526</td>\n",
       "      <td>0.309955</td>\n",
       "      <td>0.457529</td>\n",
       "      <td>0.137547</td>\n",
       "      <td>0.667783</td>\n",
       "      <td>0.327279</td>\n",
       "      <td>0.954684</td>\n",
       "      <td>0.559960</td>\n",
       "      <td>0.177094</td>\n",
       "      <td>0.044765</td>\n",
       "      <td>0.023591</td>\n",
       "    </tr>\n",
       "    <tr>\n",
       "      <th>...</th>\n",
       "      <td>...</td>\n",
       "      <td>...</td>\n",
       "      <td>...</td>\n",
       "      <td>...</td>\n",
       "      <td>...</td>\n",
       "      <td>...</td>\n",
       "      <td>...</td>\n",
       "      <td>...</td>\n",
       "      <td>...</td>\n",
       "      <td>...</td>\n",
       "      <td>...</td>\n",
       "      <td>...</td>\n",
       "    </tr>\n",
       "    <tr>\n",
       "      <th>4995</th>\n",
       "      <td>0.278093</td>\n",
       "      <td>0.851079</td>\n",
       "      <td>0.748373</td>\n",
       "      <td>0.556851</td>\n",
       "      <td>0.936082</td>\n",
       "      <td>0.309414</td>\n",
       "      <td>0.630023</td>\n",
       "      <td>0.129288</td>\n",
       "      <td>0.688835</td>\n",
       "      <td>0.322219</td>\n",
       "      <td>0.812570</td>\n",
       "      <td>0.005632</td>\n",
       "    </tr>\n",
       "    <tr>\n",
       "      <th>4996</th>\n",
       "      <td>0.099744</td>\n",
       "      <td>0.204467</td>\n",
       "      <td>0.457953</td>\n",
       "      <td>0.541516</td>\n",
       "      <td>0.210230</td>\n",
       "      <td>0.148680</td>\n",
       "      <td>0.235744</td>\n",
       "      <td>0.949436</td>\n",
       "      <td>0.734210</td>\n",
       "      <td>0.900297</td>\n",
       "      <td>0.681527</td>\n",
       "      <td>0.023973</td>\n",
       "    </tr>\n",
       "    <tr>\n",
       "      <th>4997</th>\n",
       "      <td>0.067927</td>\n",
       "      <td>0.535803</td>\n",
       "      <td>0.789971</td>\n",
       "      <td>0.355672</td>\n",
       "      <td>0.708722</td>\n",
       "      <td>0.786573</td>\n",
       "      <td>0.493510</td>\n",
       "      <td>0.612843</td>\n",
       "      <td>0.892571</td>\n",
       "      <td>0.400078</td>\n",
       "      <td>0.942574</td>\n",
       "      <td>0.020858</td>\n",
       "    </tr>\n",
       "    <tr>\n",
       "      <th>4998</th>\n",
       "      <td>0.939622</td>\n",
       "      <td>0.854829</td>\n",
       "      <td>0.060570</td>\n",
       "      <td>0.733980</td>\n",
       "      <td>0.205481</td>\n",
       "      <td>0.958429</td>\n",
       "      <td>0.872720</td>\n",
       "      <td>0.410235</td>\n",
       "      <td>0.446307</td>\n",
       "      <td>0.272113</td>\n",
       "      <td>0.701118</td>\n",
       "      <td>0.001160</td>\n",
       "    </tr>\n",
       "    <tr>\n",
       "      <th>4999</th>\n",
       "      <td>0.174984</td>\n",
       "      <td>0.192544</td>\n",
       "      <td>0.601829</td>\n",
       "      <td>0.755016</td>\n",
       "      <td>0.414121</td>\n",
       "      <td>0.948778</td>\n",
       "      <td>0.948037</td>\n",
       "      <td>0.325928</td>\n",
       "      <td>0.398239</td>\n",
       "      <td>0.978564</td>\n",
       "      <td>0.664561</td>\n",
       "      <td>0.011570</td>\n",
       "    </tr>\n",
       "  </tbody>\n",
       "</table>\n",
       "<p>5000 rows × 12 columns</p>\n",
       "</div>"
      ],
      "text/plain": [
       "             1         2         3         4         5         6         7  \\\n",
       "0     0.099799  0.228298  0.345749  0.624618  0.142054  0.880068  0.278746   \n",
       "1     0.652650  0.338442  0.528934  0.929469  0.717587  0.982313  0.288232   \n",
       "2     0.432676  0.295676  0.423789  0.339612  0.712410  0.649835  0.771151   \n",
       "3     0.117102  0.986522  0.993302  0.826073  0.150347  0.242954  0.627239   \n",
       "4     0.815295  0.781526  0.309955  0.457529  0.137547  0.667783  0.327279   \n",
       "...        ...       ...       ...       ...       ...       ...       ...   \n",
       "4995  0.278093  0.851079  0.748373  0.556851  0.936082  0.309414  0.630023   \n",
       "4996  0.099744  0.204467  0.457953  0.541516  0.210230  0.148680  0.235744   \n",
       "4997  0.067927  0.535803  0.789971  0.355672  0.708722  0.786573  0.493510   \n",
       "4998  0.939622  0.854829  0.060570  0.733980  0.205481  0.958429  0.872720   \n",
       "4999  0.174984  0.192544  0.601829  0.755016  0.414121  0.948778  0.948037   \n",
       "\n",
       "             8         9        10        11   Energie  \n",
       "0     0.042195  0.309173  0.142112  0.055976  0.049293  \n",
       "1     0.638605  0.456585  0.266482  0.401493  0.009587  \n",
       "2     0.426294  0.954812  0.057497  0.922355  0.004228  \n",
       "3     0.106455  0.021860  0.099027  0.325869  0.029378  \n",
       "4     0.954684  0.559960  0.177094  0.044765  0.023591  \n",
       "...        ...       ...       ...       ...       ...  \n",
       "4995  0.129288  0.688835  0.322219  0.812570  0.005632  \n",
       "4996  0.949436  0.734210  0.900297  0.681527  0.023973  \n",
       "4997  0.612843  0.892571  0.400078  0.942574  0.020858  \n",
       "4998  0.410235  0.446307  0.272113  0.701118  0.001160  \n",
       "4999  0.325928  0.398239  0.978564  0.664561  0.011570  \n",
       "\n",
       "[5000 rows x 12 columns]"
      ]
     },
     "metadata": {},
     "output_type": "display_data"
    }
   ],
   "source": [
    "display(data)"
   ]
  },
  {
   "cell_type": "code",
   "execution_count": 7,
   "id": "e787969d",
   "metadata": {
    "ExecuteTime": {
     "end_time": "2022-06-10T19:19:53.722963Z",
     "start_time": "2022-06-10T19:19:53.707972Z"
    }
   },
   "outputs": [
    {
     "data": {
      "text/plain": [
       "1          0\n",
       "2          0\n",
       "3          0\n",
       "4          0\n",
       "5          0\n",
       "6          0\n",
       "7          0\n",
       "8          0\n",
       "9          0\n",
       "10         0\n",
       "11         0\n",
       "Energie    0\n",
       "dtype: int64"
      ]
     },
     "execution_count": 7,
     "metadata": {},
     "output_type": "execute_result"
    }
   ],
   "source": [
    "data.isna().sum()"
   ]
  },
  {
   "cell_type": "code",
   "execution_count": 8,
   "id": "26af9bf9",
   "metadata": {
    "ExecuteTime": {
     "end_time": "2022-06-10T19:19:54.145833Z",
     "start_time": "2022-06-10T19:19:53.724926Z"
    }
   },
   "outputs": [
    {
     "data": {
      "image/png": "[encoded data removed]",
      "text/plain": [
       "<Figure size 1440x720 with 2 Axes>"
      ]
     },
     "metadata": {
      "needs_background": "light"
     },
     "output_type": "display_data"
    }
   ],
   "source": [
    "corr = data.corr()\n",
    "mask = np.triu(np.ones_like(corr, dtype=bool))\n",
    "# Draw the heatmap\n",
    "fig, ax = plt.subplots(figsize=(20,10))\n",
    "sns.heatmap(corr, mask=mask,  cmap=\"coolwarm\", center=0, linewidths=1, annot=True, fmt=\".2f\")\n",
    "plt.show()"
   ]
  },
  {
   "cell_type": "markdown",
   "id": "7585a8d8",
   "metadata": {},
   "source": [
    "## Generating categories based on the strain energy"
   ]
  },
  {
   "cell_type": "code",
   "execution_count": 9,
   "id": "b40295b6",
   "metadata": {
    "ExecuteTime": {
     "end_time": "2022-06-10T19:19:54.161762Z",
     "start_time": "2022-06-10T19:19:54.146797Z"
    }
   },
   "outputs": [],
   "source": [
    "moyenne=data['Energie'].mean()\n",
    "mini=data['Energie'].min()"
   ]
  },
  {
   "cell_type": "code",
   "execution_count": 10,
   "id": "013383a8",
   "metadata": {
    "ExecuteTime": {
     "end_time": "2022-06-10T19:19:54.177716Z",
     "start_time": "2022-06-10T19:19:54.164750Z"
    }
   },
   "outputs": [
    {
     "data": {
      "text/plain": [
       "0.018610607086265805"
      ]
     },
     "execution_count": 10,
     "metadata": {},
     "output_type": "execute_result"
    }
   ],
   "source": [
    "moyenne"
   ]
  },
  {
   "cell_type": "code",
   "execution_count": 11,
   "id": "78a0aab9",
   "metadata": {
    "ExecuteTime": {
     "end_time": "2022-06-10T19:19:54.193672Z",
     "start_time": "2022-06-10T19:19:54.179710Z"
    }
   },
   "outputs": [
    {
     "data": {
      "text/plain": [
       "0.0"
      ]
     },
     "execution_count": 11,
     "metadata": {},
     "output_type": "execute_result"
    }
   ],
   "source": [
    "mini"
   ]
  },
  {
   "cell_type": "code",
   "execution_count": 36,
   "id": "044d0ba8",
   "metadata": {
    "ExecuteTime": {
     "end_time": "2022-06-10T19:36:39.616967Z",
     "start_time": "2022-06-10T19:36:39.600028Z"
    }
   },
   "outputs": [
    {
     "name": "stdout",
     "output_type": "stream",
     "text": [
      "[2, 1, 0, 2, 2, 0, 0, 0, 0, 1, 2, 1, 1, 1, 0, 2, 2, 0, 1, 2]\n"
     ]
    }
   ],
   "source": [
    "y=[]\n",
    "for x in data['Energie']:\n",
    "    if x<=(mini +(moyenne-mini)/2):\n",
    "        y.append(0)\n",
    "    elif x>=moyenne:\n",
    "        y.append(2)\n",
    "    else:\n",
    "        y.append(1)\n",
    "print (y[:20])"
   ]
  },
  {
   "cell_type": "code",
   "execution_count": 13,
   "id": "ef25029d",
   "metadata": {
    "ExecuteTime": {
     "end_time": "2022-06-10T19:19:54.238552Z",
     "start_time": "2022-06-10T19:19:54.224589Z"
    }
   },
   "outputs": [],
   "source": [
    "data['classe']=y"
   ]
  },
  {
   "cell_type": "code",
   "execution_count": 14,
   "id": "9ce32e3d",
   "metadata": {
    "ExecuteTime": {
     "end_time": "2022-06-10T19:19:54.268472Z",
     "start_time": "2022-06-10T19:19:54.240547Z"
    }
   },
   "outputs": [
    {
     "data": {
      "text/html": [
       "<div>\n",
       "<style scoped>\n",
       "    .dataframe tbody tr th:only-of-type {\n",
       "        vertical-align: middle;\n",
       "    }\n",
       "\n",
       "    .dataframe tbody tr th {\n",
       "        vertical-align: top;\n",
       "    }\n",
       "\n",
       "    .dataframe thead th {\n",
       "        text-align: right;\n",
       "    }\n",
       "</style>\n",
       "<table border=\"1\" class=\"dataframe\">\n",
       "  <thead>\n",
       "    <tr style=\"text-align: right;\">\n",
       "      <th></th>\n",
       "      <th>1</th>\n",
       "      <th>2</th>\n",
       "      <th>3</th>\n",
       "      <th>4</th>\n",
       "      <th>5</th>\n",
       "      <th>6</th>\n",
       "      <th>7</th>\n",
       "      <th>8</th>\n",
       "      <th>9</th>\n",
       "      <th>10</th>\n",
       "      <th>11</th>\n",
       "      <th>Energie</th>\n",
       "      <th>classe</th>\n",
       "    </tr>\n",
       "  </thead>\n",
       "  <tbody>\n",
       "    <tr>\n",
       "      <th>0</th>\n",
       "      <td>0.099799</td>\n",
       "      <td>0.228298</td>\n",
       "      <td>0.345749</td>\n",
       "      <td>0.624618</td>\n",
       "      <td>0.142054</td>\n",
       "      <td>0.880068</td>\n",
       "      <td>0.278746</td>\n",
       "      <td>0.042195</td>\n",
       "      <td>0.309173</td>\n",
       "      <td>0.142112</td>\n",
       "      <td>0.055976</td>\n",
       "      <td>0.049293</td>\n",
       "      <td>2</td>\n",
       "    </tr>\n",
       "    <tr>\n",
       "      <th>1</th>\n",
       "      <td>0.652650</td>\n",
       "      <td>0.338442</td>\n",
       "      <td>0.528934</td>\n",
       "      <td>0.929469</td>\n",
       "      <td>0.717587</td>\n",
       "      <td>0.982313</td>\n",
       "      <td>0.288232</td>\n",
       "      <td>0.638605</td>\n",
       "      <td>0.456585</td>\n",
       "      <td>0.266482</td>\n",
       "      <td>0.401493</td>\n",
       "      <td>0.009587</td>\n",
       "      <td>1</td>\n",
       "    </tr>\n",
       "    <tr>\n",
       "      <th>2</th>\n",
       "      <td>0.432676</td>\n",
       "      <td>0.295676</td>\n",
       "      <td>0.423789</td>\n",
       "      <td>0.339612</td>\n",
       "      <td>0.712410</td>\n",
       "      <td>0.649835</td>\n",
       "      <td>0.771151</td>\n",
       "      <td>0.426294</td>\n",
       "      <td>0.954812</td>\n",
       "      <td>0.057497</td>\n",
       "      <td>0.922355</td>\n",
       "      <td>0.004228</td>\n",
       "      <td>0</td>\n",
       "    </tr>\n",
       "    <tr>\n",
       "      <th>3</th>\n",
       "      <td>0.117102</td>\n",
       "      <td>0.986522</td>\n",
       "      <td>0.993302</td>\n",
       "      <td>0.826073</td>\n",
       "      <td>0.150347</td>\n",
       "      <td>0.242954</td>\n",
       "      <td>0.627239</td>\n",
       "      <td>0.106455</td>\n",
       "      <td>0.021860</td>\n",
       "      <td>0.099027</td>\n",
       "      <td>0.325869</td>\n",
       "      <td>0.029378</td>\n",
       "      <td>2</td>\n",
       "    </tr>\n",
       "    <tr>\n",
       "      <th>4</th>\n",
       "      <td>0.815295</td>\n",
       "      <td>0.781526</td>\n",
       "      <td>0.309955</td>\n",
       "      <td>0.457529</td>\n",
       "      <td>0.137547</td>\n",
       "      <td>0.667783</td>\n",
       "      <td>0.327279</td>\n",
       "      <td>0.954684</td>\n",
       "      <td>0.559960</td>\n",
       "      <td>0.177094</td>\n",
       "      <td>0.044765</td>\n",
       "      <td>0.023591</td>\n",
       "      <td>2</td>\n",
       "    </tr>\n",
       "    <tr>\n",
       "      <th>...</th>\n",
       "      <td>...</td>\n",
       "      <td>...</td>\n",
       "      <td>...</td>\n",
       "      <td>...</td>\n",
       "      <td>...</td>\n",
       "      <td>...</td>\n",
       "      <td>...</td>\n",
       "      <td>...</td>\n",
       "      <td>...</td>\n",
       "      <td>...</td>\n",
       "      <td>...</td>\n",
       "      <td>...</td>\n",
       "      <td>...</td>\n",
       "    </tr>\n",
       "    <tr>\n",
       "      <th>4995</th>\n",
       "      <td>0.278093</td>\n",
       "      <td>0.851079</td>\n",
       "      <td>0.748373</td>\n",
       "      <td>0.556851</td>\n",
       "      <td>0.936082</td>\n",
       "      <td>0.309414</td>\n",
       "      <td>0.630023</td>\n",
       "      <td>0.129288</td>\n",
       "      <td>0.688835</td>\n",
       "      <td>0.322219</td>\n",
       "      <td>0.812570</td>\n",
       "      <td>0.005632</td>\n",
       "      <td>0</td>\n",
       "    </tr>\n",
       "    <tr>\n",
       "      <th>4996</th>\n",
       "      <td>0.099744</td>\n",
       "      <td>0.204467</td>\n",
       "      <td>0.457953</td>\n",
       "      <td>0.541516</td>\n",
       "      <td>0.210230</td>\n",
       "      <td>0.148680</td>\n",
       "      <td>0.235744</td>\n",
       "      <td>0.949436</td>\n",
       "      <td>0.734210</td>\n",
       "      <td>0.900297</td>\n",
       "      <td>0.681527</td>\n",
       "      <td>0.023973</td>\n",
       "      <td>2</td>\n",
       "    </tr>\n",
       "    <tr>\n",
       "      <th>4997</th>\n",
       "      <td>0.067927</td>\n",
       "      <td>0.535803</td>\n",
       "      <td>0.789971</td>\n",
       "      <td>0.355672</td>\n",
       "      <td>0.708722</td>\n",
       "      <td>0.786573</td>\n",
       "      <td>0.493510</td>\n",
       "      <td>0.612843</td>\n",
       "      <td>0.892571</td>\n",
       "      <td>0.400078</td>\n",
       "      <td>0.942574</td>\n",
       "      <td>0.020858</td>\n",
       "      <td>2</td>\n",
       "    </tr>\n",
       "    <tr>\n",
       "      <th>4998</th>\n",
       "      <td>0.939622</td>\n",
       "      <td>0.854829</td>\n",
       "      <td>0.060570</td>\n",
       "      <td>0.733980</td>\n",
       "      <td>0.205481</td>\n",
       "      <td>0.958429</td>\n",
       "      <td>0.872720</td>\n",
       "      <td>0.410235</td>\n",
       "      <td>0.446307</td>\n",
       "      <td>0.272113</td>\n",
       "      <td>0.701118</td>\n",
       "      <td>0.001160</td>\n",
       "      <td>0</td>\n",
       "    </tr>\n",
       "    <tr>\n",
       "      <th>4999</th>\n",
       "      <td>0.174984</td>\n",
       "      <td>0.192544</td>\n",
       "      <td>0.601829</td>\n",
       "      <td>0.755016</td>\n",
       "      <td>0.414121</td>\n",
       "      <td>0.948778</td>\n",
       "      <td>0.948037</td>\n",
       "      <td>0.325928</td>\n",
       "      <td>0.398239</td>\n",
       "      <td>0.978564</td>\n",
       "      <td>0.664561</td>\n",
       "      <td>0.011570</td>\n",
       "      <td>1</td>\n",
       "    </tr>\n",
       "  </tbody>\n",
       "</table>\n",
       "<p>5000 rows × 13 columns</p>\n",
       "</div>"
      ],
      "text/plain": [
       "             1         2         3         4         5         6         7  \\\n",
       "0     0.099799  0.228298  0.345749  0.624618  0.142054  0.880068  0.278746   \n",
       "1     0.652650  0.338442  0.528934  0.929469  0.717587  0.982313  0.288232   \n",
       "2     0.432676  0.295676  0.423789  0.339612  0.712410  0.649835  0.771151   \n",
       "3     0.117102  0.986522  0.993302  0.826073  0.150347  0.242954  0.627239   \n",
       "4     0.815295  0.781526  0.309955  0.457529  0.137547  0.667783  0.327279   \n",
       "...        ...       ...       ...       ...       ...       ...       ...   \n",
       "4995  0.278093  0.851079  0.748373  0.556851  0.936082  0.309414  0.630023   \n",
       "4996  0.099744  0.204467  0.457953  0.541516  0.210230  0.148680  0.235744   \n",
       "4997  0.067927  0.535803  0.789971  0.355672  0.708722  0.786573  0.493510   \n",
       "4998  0.939622  0.854829  0.060570  0.733980  0.205481  0.958429  0.872720   \n",
       "4999  0.174984  0.192544  0.601829  0.755016  0.414121  0.948778  0.948037   \n",
       "\n",
       "             8         9        10        11   Energie  classe  \n",
       "0     0.042195  0.309173  0.142112  0.055976  0.049293       2  \n",
       "1     0.638605  0.456585  0.266482  0.401493  0.009587       1  \n",
       "2     0.426294  0.954812  0.057497  0.922355  0.004228       0  \n",
       "3     0.106455  0.021860  0.099027  0.325869  0.029378       2  \n",
       "4     0.954684  0.559960  0.177094  0.044765  0.023591       2  \n",
       "...        ...       ...       ...       ...       ...     ...  \n",
       "4995  0.129288  0.688835  0.322219  0.812570  0.005632       0  \n",
       "4996  0.949436  0.734210  0.900297  0.681527  0.023973       2  \n",
       "4997  0.612843  0.892571  0.400078  0.942574  0.020858       2  \n",
       "4998  0.410235  0.446307  0.272113  0.701118  0.001160       0  \n",
       "4999  0.325928  0.398239  0.978564  0.664561  0.011570       1  \n",
       "\n",
       "[5000 rows x 13 columns]"
      ]
     },
     "execution_count": 14,
     "metadata": {},
     "output_type": "execute_result"
    }
   ],
   "source": [
    "data"
   ]
  },
  {
   "cell_type": "code",
   "execution_count": 15,
   "id": "6141bcd5",
   "metadata": {
    "ExecuteTime": {
     "end_time": "2022-06-10T19:19:54.283432Z",
     "start_time": "2022-06-10T19:19:54.269471Z"
    }
   },
   "outputs": [],
   "source": [
    "classe=data.classe"
   ]
  },
  {
   "cell_type": "code",
   "execution_count": 16,
   "id": "d73b5e69",
   "metadata": {
    "ExecuteTime": {
     "end_time": "2022-06-10T19:19:54.393138Z",
     "start_time": "2022-06-10T19:19:54.284429Z"
    }
   },
   "outputs": [
    {
     "name": "stdout",
     "output_type": "stream",
     "text": [
      "Number of inferior:  1970\n",
      "Number of between :  1609\n",
      "Number of super :  1421\n"
     ]
    },
    {
     "name": "stderr",
     "output_type": "stream",
     "text": [
      "C:\\Users\\utilisateur\\anaconda3\\anaconda\\envs\\project\\lib\\site-packages\\seaborn\\_decorators.py:43: FutureWarning: Pass the following variable as a keyword arg: x. From version 0.12, the only valid positional argument will be `data`, and passing other arguments without an explicit keyword will result in an error or misinterpretation.\n",
      "  FutureWarning\n"
     ]
    },
    {
     "data": {
      "image/png": "[encoded data removed]",
      "text/plain": [
       "<Figure size 432x288 with 1 Axes>"
      ]
     },
     "metadata": {
      "needs_background": "light"
     },
     "output_type": "display_data"
    }
   ],
   "source": [
    "ax = sns.countplot(y,label=\"Count\")       # M = 212, B = 357\n",
    "A, B,C= classe.value_counts()\n",
    "print('Number of inferior: ',A)\n",
    "print('Number of between : ',B)\n",
    "print('Number of super : ',C)"
   ]
  },
  {
   "cell_type": "code",
   "execution_count": 17,
   "id": "36ce5a28",
   "metadata": {
    "ExecuteTime": {
     "end_time": "2022-06-10T19:19:54.409096Z",
     "start_time": "2022-06-10T19:19:54.395134Z"
    }
   },
   "outputs": [],
   "source": [
    "X = data.drop(['classe'], axis=1)\n",
    "Y=data['classe']"
   ]
  },
  {
   "cell_type": "code",
   "execution_count": 18,
   "id": "847ce967",
   "metadata": {
    "ExecuteTime": {
     "end_time": "2022-06-10T19:19:54.425053Z",
     "start_time": "2022-06-10T19:19:54.410093Z"
    }
   },
   "outputs": [
    {
     "data": {
      "text/plain": [
       "(5000,)"
      ]
     },
     "execution_count": 18,
     "metadata": {},
     "output_type": "execute_result"
    }
   ],
   "source": [
    "X.shape\n",
    "Y.shape\n"
   ]
  },
  {
   "cell_type": "markdown",
   "id": "657e0662",
   "metadata": {},
   "source": [
    "## Building the model"
   ]
  },
  {
   "cell_type": "code",
   "execution_count": 19,
   "id": "bd6b0077",
   "metadata": {
    "ExecuteTime": {
     "end_time": "2022-06-10T19:19:54.454972Z",
     "start_time": "2022-06-10T19:19:54.426050Z"
    }
   },
   "outputs": [],
   "source": [
    "# Split the data into training and testing sets\n",
    "\n",
    "X_train,X_test,y_train,y_test = train_test_split(X,Y,test_size=0.3,stratify=y,random_state=123)\n",
    "y_train = to_categorical(y_train, 3)\n",
    "y_test = to_categorical(y_test, 3)"
   ]
  },
  {
   "cell_type": "code",
   "execution_count": 20,
   "id": "a76ea2cb",
   "metadata": {
    "ExecuteTime": {
     "end_time": "2022-06-10T19:19:55.688946Z",
     "start_time": "2022-06-10T19:19:54.455970Z"
    }
   },
   "outputs": [
    {
     "name": "stdout",
     "output_type": "stream",
     "text": [
      "Model: \"sequential\"\n",
      "_________________________________________________________________\n",
      " Layer (type)                Output Shape              Param #   \n",
      "=================================================================\n",
      " dense (Dense)               (None, 12)                156       \n",
      "                                                                 \n",
      " dense_1 (Dense)             (None, 24)                312       \n",
      "                                                                 \n",
      " dropout (Dropout)           (None, 24)                0         \n",
      "                                                                 \n",
      " dense_2 (Dense)             (None, 48)                1200      \n",
      "                                                                 \n",
      " dropout_1 (Dropout)         (None, 48)                0         \n",
      "                                                                 \n",
      " dense_3 (Dense)             (None, 48)                2352      \n",
      "                                                                 \n",
      " dropout_2 (Dropout)         (None, 48)                0         \n",
      "                                                                 \n",
      " dense_4 (Dense)             (None, 96)                4704      \n",
      "                                                                 \n",
      " dense_5 (Dense)             (None, 3)                 291       \n",
      "                                                                 \n",
      "=================================================================\n",
      "Total params: 9,015\n",
      "Trainable params: 9,015\n",
      "Non-trainable params: 0\n",
      "_________________________________________________________________\n"
     ]
    }
   ],
   "source": [
    "#  model\n",
    "model = Sequential()\n",
    "model.add(Dense(12, input_shape=(X.shape[1],), activation='relu'))\n",
    "model.add(Dense(24, activation='relu'))\n",
    "model.add(Dropout(0.2))\n",
    "model.add(Dense(48, activation='relu'))\n",
    "model.add(Dropout(0.2))\n",
    "model.add(Dense(48, activation='relu'))\n",
    "model.add(Dropout(0.2))\n",
    "model.add(Dense(96, activation='relu'))\n",
    "model.add(Dense(3, activation='softmax'))\n",
    "model.summary()\n",
    "\n",
    "# compile the model\n",
    "model.compile(optimizer='rmsprop', \n",
    "              loss='categorical_crossentropy', # this is different instead of binary_crossentropy (for regular classification)\n",
    "              metrics=['accuracy'])"
   ]
  },
  {
   "cell_type": "code",
   "execution_count": 21,
   "id": "53c647c9",
   "metadata": {
    "ExecuteTime": {
     "end_time": "2022-06-10T19:20:01.322554Z",
     "start_time": "2022-06-10T19:19:55.690955Z"
    }
   },
   "outputs": [
    {
     "name": "stdout",
     "output_type": "stream",
     "text": [
      "Epoch 1/40\n",
      "70/70 [==============================] - 1s 4ms/step - loss: 1.0605 - accuracy: 0.4269 - val_loss: 0.9617 - val_accuracy: 0.5340\n",
      "Epoch 2/40\n",
      "70/70 [==============================] - 0s 2ms/step - loss: 0.9509 - accuracy: 0.5331 - val_loss: 0.8358 - val_accuracy: 0.6087\n",
      "Epoch 3/40\n",
      "70/70 [==============================] - 0s 1ms/step - loss: 0.8630 - accuracy: 0.5960 - val_loss: 0.7435 - val_accuracy: 0.6487\n",
      "Epoch 4/40\n",
      "70/70 [==============================] - 0s 2ms/step - loss: 0.8102 - accuracy: 0.6311 - val_loss: 0.7253 - val_accuracy: 0.6653\n",
      "Epoch 5/40\n",
      "70/70 [==============================] - 0s 2ms/step - loss: 0.7687 - accuracy: 0.6423 - val_loss: 0.6703 - val_accuracy: 0.6900\n",
      "Epoch 6/40\n",
      "70/70 [==============================] - 0s 2ms/step - loss: 0.7323 - accuracy: 0.6631 - val_loss: 0.6293 - val_accuracy: 0.7240\n",
      "Epoch 7/40\n",
      "70/70 [==============================] - 0s 2ms/step - loss: 0.6955 - accuracy: 0.6817 - val_loss: 0.6237 - val_accuracy: 0.7327\n",
      "Epoch 8/40\n",
      "70/70 [==============================] - 0s 2ms/step - loss: 0.6551 - accuracy: 0.7157 - val_loss: 0.5601 - val_accuracy: 0.7673\n",
      "Epoch 9/40\n",
      "70/70 [==============================] - 0s 2ms/step - loss: 0.6385 - accuracy: 0.7243 - val_loss: 0.5719 - val_accuracy: 0.7547\n",
      "Epoch 10/40\n",
      "70/70 [==============================] - 0s 2ms/step - loss: 0.6057 - accuracy: 0.7357 - val_loss: 0.5375 - val_accuracy: 0.7840\n",
      "Epoch 11/40\n",
      "70/70 [==============================] - 0s 2ms/step - loss: 0.5894 - accuracy: 0.7391 - val_loss: 0.5161 - val_accuracy: 0.7913\n",
      "Epoch 12/40\n",
      "70/70 [==============================] - 0s 2ms/step - loss: 0.5710 - accuracy: 0.7491 - val_loss: 0.4902 - val_accuracy: 0.8093\n",
      "Epoch 13/40\n",
      "70/70 [==============================] - 0s 2ms/step - loss: 0.5509 - accuracy: 0.7571 - val_loss: 0.4889 - val_accuracy: 0.7913\n",
      "Epoch 14/40\n",
      "70/70 [==============================] - 0s 2ms/step - loss: 0.5347 - accuracy: 0.7731 - val_loss: 0.4595 - val_accuracy: 0.8200\n",
      "Epoch 15/40\n",
      "70/70 [==============================] - 0s 2ms/step - loss: 0.5173 - accuracy: 0.7731 - val_loss: 0.4284 - val_accuracy: 0.8273\n",
      "Epoch 16/40\n",
      "70/70 [==============================] - 0s 2ms/step - loss: 0.4990 - accuracy: 0.7826 - val_loss: 0.4330 - val_accuracy: 0.8253\n",
      "Epoch 17/40\n",
      "70/70 [==============================] - 0s 2ms/step - loss: 0.4934 - accuracy: 0.7843 - val_loss: 0.4118 - val_accuracy: 0.8300\n",
      "Epoch 18/40\n",
      "70/70 [==============================] - 0s 2ms/step - loss: 0.4663 - accuracy: 0.7991 - val_loss: 0.3968 - val_accuracy: 0.8387\n",
      "Epoch 19/40\n",
      "70/70 [==============================] - 0s 2ms/step - loss: 0.4538 - accuracy: 0.8057 - val_loss: 0.3921 - val_accuracy: 0.8480\n",
      "Epoch 20/40\n",
      "70/70 [==============================] - 0s 2ms/step - loss: 0.4421 - accuracy: 0.8103 - val_loss: 0.3846 - val_accuracy: 0.8433\n",
      "Epoch 21/40\n",
      "70/70 [==============================] - 0s 2ms/step - loss: 0.4313 - accuracy: 0.8237 - val_loss: 0.4072 - val_accuracy: 0.8247\n",
      "Epoch 22/40\n",
      "70/70 [==============================] - 0s 2ms/step - loss: 0.4289 - accuracy: 0.8311 - val_loss: 0.3804 - val_accuracy: 0.8500\n",
      "Epoch 23/40\n",
      "70/70 [==============================] - 0s 2ms/step - loss: 0.4161 - accuracy: 0.8300 - val_loss: 0.4059 - val_accuracy: 0.8247\n",
      "Epoch 24/40\n",
      "70/70 [==============================] - 0s 2ms/step - loss: 0.4000 - accuracy: 0.8326 - val_loss: 0.3470 - val_accuracy: 0.8680\n",
      "Epoch 25/40\n",
      "70/70 [==============================] - 0s 2ms/step - loss: 0.4004 - accuracy: 0.8369 - val_loss: 0.3453 - val_accuracy: 0.8667\n",
      "Epoch 26/40\n",
      "70/70 [==============================] - 0s 2ms/step - loss: 0.3968 - accuracy: 0.8383 - val_loss: 0.3638 - val_accuracy: 0.8607\n",
      "Epoch 27/40\n",
      "70/70 [==============================] - 0s 1ms/step - loss: 0.3820 - accuracy: 0.8460 - val_loss: 0.3338 - val_accuracy: 0.8660\n",
      "Epoch 28/40\n",
      "70/70 [==============================] - 0s 1ms/step - loss: 0.3766 - accuracy: 0.8511 - val_loss: 0.3516 - val_accuracy: 0.8653\n",
      "Epoch 29/40\n",
      "70/70 [==============================] - 0s 1ms/step - loss: 0.3687 - accuracy: 0.8477 - val_loss: 0.3207 - val_accuracy: 0.8713\n",
      "Epoch 30/40\n",
      "70/70 [==============================] - 0s 1ms/step - loss: 0.3750 - accuracy: 0.8486 - val_loss: 0.3224 - val_accuracy: 0.8687\n",
      "Epoch 31/40\n",
      "70/70 [==============================] - 0s 1ms/step - loss: 0.3599 - accuracy: 0.8569 - val_loss: 0.3498 - val_accuracy: 0.8660\n",
      "Epoch 32/40\n",
      "70/70 [==============================] - 0s 2ms/step - loss: 0.3522 - accuracy: 0.8623 - val_loss: 0.3481 - val_accuracy: 0.8580\n",
      "Epoch 33/40\n",
      "70/70 [==============================] - 0s 2ms/step - loss: 0.3449 - accuracy: 0.8634 - val_loss: 0.2885 - val_accuracy: 0.8893\n",
      "Epoch 34/40\n",
      "70/70 [==============================] - 0s 1ms/step - loss: 0.3371 - accuracy: 0.8651 - val_loss: 0.3980 - val_accuracy: 0.8420\n",
      "Epoch 35/40\n",
      "70/70 [==============================] - 0s 1ms/step - loss: 0.3356 - accuracy: 0.8649 - val_loss: 0.3004 - val_accuracy: 0.8827\n",
      "Epoch 36/40\n",
      "70/70 [==============================] - 0s 1ms/step - loss: 0.3284 - accuracy: 0.8751 - val_loss: 0.2972 - val_accuracy: 0.8800\n",
      "Epoch 37/40\n",
      "70/70 [==============================] - 0s 1ms/step - loss: 0.3254 - accuracy: 0.8700 - val_loss: 0.2915 - val_accuracy: 0.8847\n",
      "Epoch 38/40\n",
      "70/70 [==============================] - 0s 2ms/step - loss: 0.3274 - accuracy: 0.8671 - val_loss: 0.2964 - val_accuracy: 0.8747\n",
      "Epoch 39/40\n",
      "70/70 [==============================] - 0s 2ms/step - loss: 0.3251 - accuracy: 0.8769 - val_loss: 0.3083 - val_accuracy: 0.8793\n",
      "Epoch 40/40\n",
      "70/70 [==============================] - 0s 1ms/step - loss: 0.3213 - accuracy: 0.8766 - val_loss: 0.2774 - val_accuracy: 0.8940\n"
     ]
    }
   ],
   "source": [
    "# early stopping callback\n",
    "# This callback will stop the training when there is no improvement in  \n",
    "#the validation loss for 10 consecutive epochs.  \n",
    "es = keras.callbacks.EarlyStopping(monitor='val_loss', \n",
    "                                   mode='min',\n",
    "                                   patience=10, \n",
    "                                   restore_best_weights=True) # important - otherwise you just return the last weigths...\n",
    "\n",
    "# now we just update our model fit call\n",
    "history = model.fit(X_train,\n",
    "                    y_train,\n",
    "                    callbacks=[es],\n",
    "                    epochs=40, \n",
    "                    batch_size=50,\n",
    "                    shuffle=True,\n",
    "                    validation_data=(X_test,y_test),\n",
    "                    verbose=1)"
   ]
  },
  {
   "cell_type": "markdown",
   "id": "e6852ffd",
   "metadata": {},
   "source": [
    "## Evaluating the model"
   ]
  },
  {
   "cell_type": "code",
   "execution_count": 22,
   "id": "3c4d8550",
   "metadata": {
    "ExecuteTime": {
     "end_time": "2022-06-10T19:20:01.605816Z",
     "start_time": "2022-06-10T19:20:01.323552Z"
    }
   },
   "outputs": [
    {
     "name": "stdout",
     "output_type": "stream",
     "text": [
      "47/47 [==============================] - 0s 867us/step - loss: 0.2774 - accuracy: 0.8940\n",
      "Loss of the model is -  0.27739930152893066\n",
      "47/47 [==============================] - 0s 954us/step - loss: 0.2774 - accuracy: 0.8940\n",
      "Accuracy of the model is -  89.3999993801117 %\n"
     ]
    }
   ],
   "source": [
    "print(\"Loss of the model is - \" , model.evaluate(X_test,y_test)[0])\n",
    "print(\"Accuracy of the model is - \" , model.evaluate(X_test,y_test)[1]*100 , \"%\")"
   ]
  },
  {
   "cell_type": "code",
   "execution_count": 35,
   "id": "88fd2784",
   "metadata": {
    "ExecuteTime": {
     "end_time": "2022-06-10T19:35:57.156275Z",
     "start_time": "2022-06-10T19:35:56.918173Z"
    }
   },
   "outputs": [
    {
     "data": {
      "image/png": "[encoded data removed]",
      "text/plain": [
       "<Figure size 1440x720 with 2 Axes>"
      ]
     },
     "metadata": {
      "needs_background": "light"
     },
     "output_type": "display_data"
    },
    {
     "data": {
      "text/plain": [
       "<Figure size 432x288 with 0 Axes>"
      ]
     },
     "execution_count": 35,
     "metadata": {},
     "output_type": "execute_result"
    },
    {
     "data": {
      "text/plain": [
       "<Figure size 432x288 with 0 Axes>"
      ]
     },
     "metadata": {},
     "output_type": "display_data"
    }
   ],
   "source": [
    "fig , ax = plt.subplots(1,2)\n",
    "\n",
    "fig.set_size_inches(20,10)\n",
    "\n",
    "ax[0].plot(history.history['accuracy'] ,  label = 'Training Accuracy')\n",
    "ax[0].plot(history.history['val_accuracy'] ,  label = 'Validation Accuracy')\n",
    "ax[0].set_title('Training & Validation Accuracy')\n",
    "ax[0].legend(['Train', 'Test'])\n",
    "ax[0].set_xlabel(\"Epochs\")\n",
    "ax[0].set_ylabel(\"Accuracy\")\n",
    "\n",
    "ax[1].plot(history.history['loss'] , label = 'Training Loss')\n",
    "ax[1].plot(history.history['val_loss'] , label = 'Validation Loss')\n",
    "ax[1].set_title('Testing Accuracy & Loss')\n",
    "ax[1].legend(['Train', 'Test'])\n",
    "ax[1].set_xlabel(\"Epochs\")\n",
    "ax[1].set_ylabel(\"Loss\")\n",
    "plt.show()\n",
    "plt.figure()\n",
    "\n"
   ]
  },
  {
   "cell_type": "code",
   "execution_count": 26,
   "id": "32549962",
   "metadata": {
    "ExecuteTime": {
     "end_time": "2022-06-10T19:20:01.937908Z",
     "start_time": "2022-06-10T19:20:01.765371Z"
    }
   },
   "outputs": [
    {
     "name": "stdout",
     "output_type": "stream",
     "text": [
      "47/47 [==============================] - 0s 824us/step\n",
      "[[9.2482436e-01 6.9058456e-02 6.1172177e-03]\n",
      " [9.6803379e-01 2.9669279e-02 2.2968634e-03]\n",
      " [2.9837086e-17 4.7891136e-04 9.9952114e-01]\n",
      " ...\n",
      " [1.7098241e-01 8.0226701e-01 2.6750600e-02]\n",
      " [1.1589836e-05 5.8822471e-01 4.1176370e-01]\n",
      " [9.6984005e-01 2.7999414e-02 2.1606071e-03]]\n"
     ]
    }
   ],
   "source": [
    "pred = model.predict(X_test[:])\n",
    "print(pred)"
   ]
  },
  {
   "cell_type": "code",
   "execution_count": 27,
   "id": "4c017252",
   "metadata": {
    "ExecuteTime": {
     "end_time": "2022-06-10T19:20:01.952867Z",
     "start_time": "2022-06-10T19:20:01.938905Z"
    }
   },
   "outputs": [
    {
     "name": "stdout",
     "output_type": "stream",
     "text": [
      "[0 0 2 0 0 0 1 0 0 2 1 0 0 1 1]\n",
      "[0 0 2 0 0 0 1 0 0 2 1 0 0 1 1]\n"
     ]
    }
   ],
   "source": [
    "p=np.argmax(pred,axis=1)\n",
    "print(p[:15])\n",
    "y_test=np.argmax(y_test, axis=1)\n",
    "print(y_test[:15])\n",
    "    "
   ]
  },
  {
   "cell_type": "code",
   "execution_count": 28,
   "id": "94c9afbf",
   "metadata": {
    "ExecuteTime": {
     "end_time": "2022-06-10T19:20:01.968857Z",
     "start_time": "2022-06-10T19:20:01.956857Z"
    }
   },
   "outputs": [
    {
     "data": {
      "text/plain": [
       "array([0, 0, 2, 0, 0, 0, 1, 0, 0, 2, 1, 0, 0, 1, 1], dtype=int64)"
      ]
     },
     "execution_count": 28,
     "metadata": {},
     "output_type": "execute_result"
    }
   ],
   "source": [
    "predictions = p\n",
    "predictions = predictions.reshape(1,-1)[0]\n",
    "predictions[:15]\n"
   ]
  },
  {
   "cell_type": "code",
   "execution_count": 29,
   "id": "aa61d182",
   "metadata": {
    "ExecuteTime": {
     "end_time": "2022-06-10T19:20:01.984807Z",
     "start_time": "2022-06-10T19:20:01.969823Z"
    }
   },
   "outputs": [
    {
     "name": "stdout",
     "output_type": "stream",
     "text": [
      "              precision    recall  f1-score   support\n",
      "\n",
      "           0       0.92      0.92      0.92       591\n",
      "           1       0.81      0.89      0.85       483\n",
      "           2       0.97      0.87      0.92       426\n",
      "\n",
      "    accuracy                           0.89      1500\n",
      "   macro avg       0.90      0.89      0.89      1500\n",
      "weighted avg       0.90      0.89      0.90      1500\n",
      "\n"
     ]
    }
   ],
   "source": [
    "print(classification_report(y_test, predictions, target_names = ['0','1','2']))"
   ]
  },
  {
   "cell_type": "code",
   "execution_count": 30,
   "id": "19790c07",
   "metadata": {
    "ExecuteTime": {
     "end_time": "2022-06-10T19:20:02.000766Z",
     "start_time": "2022-06-10T19:20:01.985780Z"
    }
   },
   "outputs": [
    {
     "data": {
      "text/plain": [
       "array([[544,  47,   0],\n",
       "       [ 44, 428,  11],\n",
       "       [  2,  55, 369]], dtype=int64)"
      ]
     },
     "execution_count": 30,
     "metadata": {},
     "output_type": "execute_result"
    }
   ],
   "source": [
    "cm = confusion_matrix(y_test,predictions)\n",
    "cm"
   ]
  },
  {
   "cell_type": "code",
   "execution_count": 31,
   "id": "f324cc45",
   "metadata": {
    "ExecuteTime": {
     "end_time": "2022-06-10T19:20:02.016729Z",
     "start_time": "2022-06-10T19:20:02.001738Z"
    }
   },
   "outputs": [],
   "source": [
    "cm = pd.DataFrame(cm , index = ['0','1','2'] , columns = ['0','1','2'])"
   ]
  },
  {
   "cell_type": "code",
   "execution_count": 32,
   "id": "b5113424",
   "metadata": {
    "ExecuteTime": {
     "end_time": "2022-06-10T19:20:02.157813Z",
     "start_time": "2022-06-10T19:20:02.018691Z"
    }
   },
   "outputs": [
    {
     "data": {
      "text/plain": [
       "<AxesSubplot:>"
      ]
     },
     "execution_count": 32,
     "metadata": {},
     "output_type": "execute_result"
    },
    {
     "data": {
      "image/png": "[encoded data removed]",
      "text/plain": [
       "<Figure size 720x720 with 2 Axes>"
      ]
     },
     "metadata": {
      "needs_background": "light"
     },
     "output_type": "display_data"
    }
   ],
   "source": [
    "plt.figure(figsize = (10,10))\n",
    "sns.heatmap(cm,cmap= \"Blues\", linecolor = 'black' , linewidth = 1 , annot = True, fmt='')"
   ]
  },
  {
   "cell_type": "code",
   "execution_count": null,
   "id": "2314f9e2",
   "metadata": {},
   "outputs": [],
   "source": []
  }
 ],
 "metadata": {
  "kernelspec": {
   "display_name": "Python 3 (ipykernel)",
   "language": "python",
   "name": "python3"
  },
  "language_info": {
   "codemirror_mode": {
    "name": "ipython",
    "version": 3
   },
   "file_extension": ".py",
   "mimetype": "text/x-python",
   "name": "python",
   "nbconvert_exporter": "python",
   "pygments_lexer": "ipython3",
   "version": "3.7.13"
  },
  "latex_envs": {
   "LaTeX_envs_menu_present": true,
   "autoclose": false,
   "autocomplete": true,
   "bibliofile": "biblio.bib",
   "cite_by": "apalike",
   "current_citInitial": 1,
   "eqLabelWithNumbers": true,
   "eqNumInitial": 1,
   "hotkeys": {
    "equation": "Ctrl-E",
    "itemize": "Ctrl-I"
   },
   "labels_anchors": false,
   "latex_user_defs": false,
   "report_style_numbering": false,
   "user_envs_cfg": false
  },
  "varInspector": {
   "cols": {
    "lenName": 16,
    "lenType": 16,
    "lenVar": 40
   },
   "kernels_config": {
    "python": {
     "delete_cmd_postfix": "",
     "delete_cmd_prefix": "del ",
     "library": "var_list.py",
     "varRefreshCmd": "print(var_dic_list())"
    },
    "r": {
     "delete_cmd_postfix": ") ",
     "delete_cmd_prefix": "rm(",
     "library": "var_list.r",
     "varRefreshCmd": "cat(var_dic_list()) "
    }
   },
   "types_to_exclude": [
    "module",
    "function",
    "builtin_function_or_method",
    "instance",
    "_Feature"
   ],
   "window_display": false
  }
 },
 "nbformat": 4,
 "nbformat_minor": 5
}
