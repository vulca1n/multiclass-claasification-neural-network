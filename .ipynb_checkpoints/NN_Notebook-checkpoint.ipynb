{
 "cells": [
  {
   "cell_type": "code",
   "execution_count": 1,
   "metadata": {
    "ExecuteTime": {
     "end_time": "2022-06-09T11:31:31.643690Z",
     "start_time": "2022-06-09T11:31:30.287315Z"
    }
   },
   "outputs": [],
   "source": [
    "import pandas as pd\n",
    "import numpy as np\n",
    "import matplotlib.pyplot as plt\n",
    "import seaborn as sns\n",
    "from tqdm import tqdm\n",
    "from sklearn.metrics import accuracy_score, log_loss"
   ]
  },
  {
   "cell_type": "code",
   "execution_count": 2,
   "metadata": {
    "ExecuteTime": {
     "end_time": "2022-06-09T11:31:34.834217Z",
     "start_time": "2022-06-09T11:31:32.729784Z"
    }
   },
   "outputs": [],
   "source": [
    "import tensorflow as tf"
   ]
  },
  {
   "cell_type": "code",
   "execution_count": 3,
   "metadata": {
    "ExecuteTime": {
     "end_time": "2022-06-09T11:31:35.704909Z",
     "start_time": "2022-06-09T11:31:34.896052Z"
    }
   },
   "outputs": [],
   "source": [
    "data=pd.read_excel(\"Truss Structure Dataset5.xlsx\")"
   ]
  },
  {
   "cell_type": "code",
   "execution_count": 4,
   "metadata": {
    "ExecuteTime": {
     "end_time": "2022-06-09T11:31:37.222084Z",
     "start_time": "2022-06-09T11:31:37.199937Z"
    }
   },
   "outputs": [
    {
     "data": {
      "text/html": [
       "<div>\n",
       "<style scoped>\n",
       "    .dataframe tbody tr th:only-of-type {\n",
       "        vertical-align: middle;\n",
       "    }\n",
       "\n",
       "    .dataframe tbody tr th {\n",
       "        vertical-align: top;\n",
       "    }\n",
       "\n",
       "    .dataframe thead th {\n",
       "        text-align: right;\n",
       "    }\n",
       "</style>\n",
       "<table border=\"1\" class=\"dataframe\">\n",
       "  <thead>\n",
       "    <tr style=\"text-align: right;\">\n",
       "      <th></th>\n",
       "      <th>0.099815</th>\n",
       "      <th>0.228368</th>\n",
       "      <th>0.345872</th>\n",
       "      <th>0.624538</th>\n",
       "      <th>0.142454</th>\n",
       "      <th>0.879926</th>\n",
       "      <th>0.278901</th>\n",
       "      <th>0.042190</th>\n",
       "      <th>0.309162</th>\n",
       "      <th>0.142338</th>\n",
       "      <th>0.056164</th>\n",
       "      <th>518.872265</th>\n",
       "    </tr>\n",
       "  </thead>\n",
       "  <tbody>\n",
       "    <tr>\n",
       "      <th>0</th>\n",
       "      <td>0.652435</td>\n",
       "      <td>0.338497</td>\n",
       "      <td>0.528984</td>\n",
       "      <td>0.929300</td>\n",
       "      <td>0.717652</td>\n",
       "      <td>0.982095</td>\n",
       "      <td>0.288384</td>\n",
       "      <td>0.638467</td>\n",
       "      <td>0.456471</td>\n",
       "      <td>0.266632</td>\n",
       "      <td>0.401482</td>\n",
       "      <td>165.554977</td>\n",
       "    </tr>\n",
       "    <tr>\n",
       "      <th>1</th>\n",
       "      <td>0.432553</td>\n",
       "      <td>0.295737</td>\n",
       "      <td>0.423880</td>\n",
       "      <td>0.339616</td>\n",
       "      <td>0.712478</td>\n",
       "      <td>0.649861</td>\n",
       "      <td>0.771156</td>\n",
       "      <td>0.426203</td>\n",
       "      <td>0.954350</td>\n",
       "      <td>0.057775</td>\n",
       "      <td>0.922045</td>\n",
       "      <td>117.870193</td>\n",
       "    </tr>\n",
       "    <tr>\n",
       "      <th>2</th>\n",
       "      <td>0.117110</td>\n",
       "      <td>0.986492</td>\n",
       "      <td>0.993167</td>\n",
       "      <td>0.825934</td>\n",
       "      <td>0.150742</td>\n",
       "      <td>0.243278</td>\n",
       "      <td>0.627288</td>\n",
       "      <td>0.106435</td>\n",
       "      <td>0.022050</td>\n",
       "      <td>0.099280</td>\n",
       "      <td>0.325902</td>\n",
       "      <td>341.659101</td>\n",
       "    </tr>\n",
       "    <tr>\n",
       "      <th>3</th>\n",
       "      <td>0.815013</td>\n",
       "      <td>0.781523</td>\n",
       "      <td>0.310091</td>\n",
       "      <td>0.457499</td>\n",
       "      <td>0.137949</td>\n",
       "      <td>0.667795</td>\n",
       "      <td>0.327419</td>\n",
       "      <td>0.954475</td>\n",
       "      <td>0.559774</td>\n",
       "      <td>0.177299</td>\n",
       "      <td>0.044959</td>\n",
       "      <td>290.170068</td>\n",
       "    </tr>\n",
       "    <tr>\n",
       "      <th>4</th>\n",
       "      <td>0.398727</td>\n",
       "      <td>0.547855</td>\n",
       "      <td>0.905359</td>\n",
       "      <td>0.776356</td>\n",
       "      <td>0.535294</td>\n",
       "      <td>0.661335</td>\n",
       "      <td>0.614412</td>\n",
       "      <td>0.598721</td>\n",
       "      <td>0.661112</td>\n",
       "      <td>0.234714</td>\n",
       "      <td>0.728541</td>\n",
       "      <td>119.954333</td>\n",
       "    </tr>\n",
       "    <tr>\n",
       "      <th>...</th>\n",
       "      <td>...</td>\n",
       "      <td>...</td>\n",
       "      <td>...</td>\n",
       "      <td>...</td>\n",
       "      <td>...</td>\n",
       "      <td>...</td>\n",
       "      <td>...</td>\n",
       "      <td>...</td>\n",
       "      <td>...</td>\n",
       "      <td>...</td>\n",
       "      <td>...</td>\n",
       "      <td>...</td>\n",
       "    </tr>\n",
       "    <tr>\n",
       "      <th>4994</th>\n",
       "      <td>0.278034</td>\n",
       "      <td>0.851066</td>\n",
       "      <td>0.748335</td>\n",
       "      <td>0.556791</td>\n",
       "      <td>0.936020</td>\n",
       "      <td>0.309689</td>\n",
       "      <td>0.630071</td>\n",
       "      <td>0.129263</td>\n",
       "      <td>0.688559</td>\n",
       "      <td>0.322336</td>\n",
       "      <td>0.812322</td>\n",
       "      <td>130.367264</td>\n",
       "    </tr>\n",
       "    <tr>\n",
       "      <th>4995</th>\n",
       "      <td>0.099759</td>\n",
       "      <td>0.204540</td>\n",
       "      <td>0.458030</td>\n",
       "      <td>0.541461</td>\n",
       "      <td>0.210590</td>\n",
       "      <td>0.149072</td>\n",
       "      <td>0.235912</td>\n",
       "      <td>0.949228</td>\n",
       "      <td>0.733902</td>\n",
       "      <td>0.900062</td>\n",
       "      <td>0.681355</td>\n",
       "      <td>293.567561</td>\n",
       "    </tr>\n",
       "    <tr>\n",
       "      <th>4996</th>\n",
       "      <td>0.067955</td>\n",
       "      <td>0.535832</td>\n",
       "      <td>0.789917</td>\n",
       "      <td>0.355671</td>\n",
       "      <td>0.708792</td>\n",
       "      <td>0.786499</td>\n",
       "      <td>0.493599</td>\n",
       "      <td>0.612711</td>\n",
       "      <td>0.892152</td>\n",
       "      <td>0.400147</td>\n",
       "      <td>0.942253</td>\n",
       "      <td>265.846487</td>\n",
       "    </tr>\n",
       "    <tr>\n",
       "      <th>4997</th>\n",
       "      <td>0.939288</td>\n",
       "      <td>0.854816</td>\n",
       "      <td>0.060806</td>\n",
       "      <td>0.733868</td>\n",
       "      <td>0.205844</td>\n",
       "      <td>0.958229</td>\n",
       "      <td>0.872695</td>\n",
       "      <td>0.410148</td>\n",
       "      <td>0.446200</td>\n",
       "      <td>0.272260</td>\n",
       "      <td>0.700935</td>\n",
       "      <td>90.571360</td>\n",
       "    </tr>\n",
       "    <tr>\n",
       "      <th>4998</th>\n",
       "      <td>0.174968</td>\n",
       "      <td>0.192618</td>\n",
       "      <td>0.601849</td>\n",
       "      <td>0.754898</td>\n",
       "      <td>0.414362</td>\n",
       "      <td>0.948585</td>\n",
       "      <td>0.947988</td>\n",
       "      <td>0.325859</td>\n",
       "      <td>0.398166</td>\n",
       "      <td>0.978280</td>\n",
       "      <td>0.664399</td>\n",
       "      <td>183.201924</td>\n",
       "    </tr>\n",
       "  </tbody>\n",
       "</table>\n",
       "<p>4999 rows × 12 columns</p>\n",
       "</div>"
      ],
      "text/plain": [
       "      0.099815    0.228368    0.345872    0.624538    0.142454    0.879926    \\\n",
       "0       0.652435    0.338497    0.528984    0.929300    0.717652    0.982095   \n",
       "1       0.432553    0.295737    0.423880    0.339616    0.712478    0.649861   \n",
       "2       0.117110    0.986492    0.993167    0.825934    0.150742    0.243278   \n",
       "3       0.815013    0.781523    0.310091    0.457499    0.137949    0.667795   \n",
       "4       0.398727    0.547855    0.905359    0.776356    0.535294    0.661335   \n",
       "...          ...         ...         ...         ...         ...         ...   \n",
       "4994    0.278034    0.851066    0.748335    0.556791    0.936020    0.309689   \n",
       "4995    0.099759    0.204540    0.458030    0.541461    0.210590    0.149072   \n",
       "4996    0.067955    0.535832    0.789917    0.355671    0.708792    0.786499   \n",
       "4997    0.939288    0.854816    0.060806    0.733868    0.205844    0.958229   \n",
       "4998    0.174968    0.192618    0.601849    0.754898    0.414362    0.948585   \n",
       "\n",
       "      0.278901    0.042190    0.309162    0.142338    0.056164    518.872265  \n",
       "0       0.288384    0.638467    0.456471    0.266632    0.401482  165.554977  \n",
       "1       0.771156    0.426203    0.954350    0.057775    0.922045  117.870193  \n",
       "2       0.627288    0.106435    0.022050    0.099280    0.325902  341.659101  \n",
       "3       0.327419    0.954475    0.559774    0.177299    0.044959  290.170068  \n",
       "4       0.614412    0.598721    0.661112    0.234714    0.728541  119.954333  \n",
       "...          ...         ...         ...         ...         ...         ...  \n",
       "4994    0.630071    0.129263    0.688559    0.322336    0.812322  130.367264  \n",
       "4995    0.235912    0.949228    0.733902    0.900062    0.681355  293.567561  \n",
       "4996    0.493599    0.612711    0.892152    0.400147    0.942253  265.846487  \n",
       "4997    0.872695    0.410148    0.446200    0.272260    0.700935   90.571360  \n",
       "4998    0.947988    0.325859    0.398166    0.978280    0.664399  183.201924  \n",
       "\n",
       "[4999 rows x 12 columns]"
      ]
     },
     "metadata": {},
     "output_type": "display_data"
    }
   ],
   "source": [
    "#df = pd.DataFrame(data)\n",
    "display(data)"
   ]
  },
  {
   "cell_type": "code",
   "execution_count": 5,
   "metadata": {
    "ExecuteTime": {
     "end_time": "2022-06-09T11:32:55.439401Z",
     "start_time": "2022-06-09T11:32:55.426436Z"
    }
   },
   "outputs": [
    {
     "data": {
      "text/plain": [
       "0.099815      0\n",
       "0.228368      0\n",
       "0.345872      0\n",
       "0.624538      0\n",
       "0.142454      0\n",
       "0.879926      0\n",
       "0.278901      0\n",
       "0.042190      0\n",
       "0.309162      0\n",
       "0.142338      0\n",
       "0.056164      0\n",
       "518.872265    0\n",
       "dtype: int64"
      ]
     },
     "execution_count": 5,
     "metadata": {},
     "output_type": "execute_result"
    }
   ],
   "source": [
    "data.isna().sum()"
   ]
  },
  {
   "cell_type": "code",
   "execution_count": 6,
   "metadata": {
    "ExecuteTime": {
     "end_time": "2022-06-09T11:32:59.173575Z",
     "start_time": "2022-06-09T11:32:58.125220Z"
    },
    "scrolled": false
   },
   "outputs": [
    {
     "data": {
      "image/png": "[encoded data removed]",
      "text/plain": [
       "<Figure size 1080x1080 with 12 Axes>"
      ]
     },
     "metadata": {
      "needs_background": "light"
     },
     "output_type": "display_data"
    }
   ],
   "source": [
    "data.hist(figsize = (15, 15))\n",
    "plt.show()"
   ]
  },
  {
   "cell_type": "code",
   "execution_count": 7,
   "metadata": {
    "ExecuteTime": {
     "end_time": "2022-06-09T11:33:01.048561Z",
     "start_time": "2022-06-09T11:33:00.580811Z"
    }
   },
   "outputs": [
    {
     "data": {
      "image/png": "[encoded data removed]",
      "text/plain": [
       "<Figure size 1440x720 with 2 Axes>"
      ]
     },
     "metadata": {
      "needs_background": "light"
     },
     "output_type": "display_data"
    }
   ],
   "source": [
    "corr = data.corr()\n",
    "mask = np.triu(np.ones_like(corr, dtype=bool))\n",
    "# Draw the heatmap\n",
    "fig, ax = plt.subplots(figsize=(20,10))\n",
    "sns.heatmap(corr, mask=mask,  cmap=\"coolwarm\", center=0, linewidths=1, annot=True, fmt=\".2f\")\n",
    "plt.show()"
   ]
  },
  {
   "cell_type": "code",
   "execution_count": 8,
   "metadata": {
    "ExecuteTime": {
     "end_time": "2022-06-09T11:33:05.551555Z",
     "start_time": "2022-06-09T11:33:05.532605Z"
    }
   },
   "outputs": [],
   "source": [
    "%matplotlib inline\n",
    "import os\n",
    "from tqdm import tqdm\n",
    "import tensorflow as tf\n",
    "from tensorflow import keras"
   ]
  },
  {
   "cell_type": "code",
   "execution_count": 9,
   "metadata": {
    "ExecuteTime": {
     "end_time": "2022-06-09T11:33:07.783750Z",
     "start_time": "2022-06-09T11:33:07.753829Z"
    }
   },
   "outputs": [
    {
     "data": {
      "text/html": [
       "<div>\n",
       "<style scoped>\n",
       "    .dataframe tbody tr th:only-of-type {\n",
       "        vertical-align: middle;\n",
       "    }\n",
       "\n",
       "    .dataframe tbody tr th {\n",
       "        vertical-align: top;\n",
       "    }\n",
       "\n",
       "    .dataframe thead th {\n",
       "        text-align: right;\n",
       "    }\n",
       "</style>\n",
       "<table border=\"1\" class=\"dataframe\">\n",
       "  <thead>\n",
       "    <tr style=\"text-align: right;\">\n",
       "      <th></th>\n",
       "      <th>0</th>\n",
       "      <th>1</th>\n",
       "      <th>2</th>\n",
       "      <th>3</th>\n",
       "      <th>4</th>\n",
       "      <th>5</th>\n",
       "      <th>6</th>\n",
       "      <th>7</th>\n",
       "      <th>8</th>\n",
       "      <th>9</th>\n",
       "      <th>10</th>\n",
       "      <th>11</th>\n",
       "    </tr>\n",
       "  </thead>\n",
       "  <tbody>\n",
       "    <tr>\n",
       "      <th>0</th>\n",
       "      <td>0.652435</td>\n",
       "      <td>0.338497</td>\n",
       "      <td>0.528984</td>\n",
       "      <td>0.929300</td>\n",
       "      <td>0.717652</td>\n",
       "      <td>0.982095</td>\n",
       "      <td>0.288384</td>\n",
       "      <td>0.638467</td>\n",
       "      <td>0.456471</td>\n",
       "      <td>0.266632</td>\n",
       "      <td>0.401482</td>\n",
       "      <td>165.554977</td>\n",
       "    </tr>\n",
       "    <tr>\n",
       "      <th>1</th>\n",
       "      <td>0.432553</td>\n",
       "      <td>0.295737</td>\n",
       "      <td>0.423880</td>\n",
       "      <td>0.339616</td>\n",
       "      <td>0.712478</td>\n",
       "      <td>0.649861</td>\n",
       "      <td>0.771156</td>\n",
       "      <td>0.426203</td>\n",
       "      <td>0.954350</td>\n",
       "      <td>0.057775</td>\n",
       "      <td>0.922045</td>\n",
       "      <td>117.870193</td>\n",
       "    </tr>\n",
       "    <tr>\n",
       "      <th>2</th>\n",
       "      <td>0.117110</td>\n",
       "      <td>0.986492</td>\n",
       "      <td>0.993167</td>\n",
       "      <td>0.825934</td>\n",
       "      <td>0.150742</td>\n",
       "      <td>0.243278</td>\n",
       "      <td>0.627288</td>\n",
       "      <td>0.106435</td>\n",
       "      <td>0.022050</td>\n",
       "      <td>0.099280</td>\n",
       "      <td>0.325902</td>\n",
       "      <td>341.659101</td>\n",
       "    </tr>\n",
       "    <tr>\n",
       "      <th>3</th>\n",
       "      <td>0.815013</td>\n",
       "      <td>0.781523</td>\n",
       "      <td>0.310091</td>\n",
       "      <td>0.457499</td>\n",
       "      <td>0.137949</td>\n",
       "      <td>0.667795</td>\n",
       "      <td>0.327419</td>\n",
       "      <td>0.954475</td>\n",
       "      <td>0.559774</td>\n",
       "      <td>0.177299</td>\n",
       "      <td>0.044959</td>\n",
       "      <td>290.170068</td>\n",
       "    </tr>\n",
       "    <tr>\n",
       "      <th>4</th>\n",
       "      <td>0.398727</td>\n",
       "      <td>0.547855</td>\n",
       "      <td>0.905359</td>\n",
       "      <td>0.776356</td>\n",
       "      <td>0.535294</td>\n",
       "      <td>0.661335</td>\n",
       "      <td>0.614412</td>\n",
       "      <td>0.598721</td>\n",
       "      <td>0.661112</td>\n",
       "      <td>0.234714</td>\n",
       "      <td>0.728541</td>\n",
       "      <td>119.954333</td>\n",
       "    </tr>\n",
       "    <tr>\n",
       "      <th>...</th>\n",
       "      <td>...</td>\n",
       "      <td>...</td>\n",
       "      <td>...</td>\n",
       "      <td>...</td>\n",
       "      <td>...</td>\n",
       "      <td>...</td>\n",
       "      <td>...</td>\n",
       "      <td>...</td>\n",
       "      <td>...</td>\n",
       "      <td>...</td>\n",
       "      <td>...</td>\n",
       "      <td>...</td>\n",
       "    </tr>\n",
       "    <tr>\n",
       "      <th>4994</th>\n",
       "      <td>0.278034</td>\n",
       "      <td>0.851066</td>\n",
       "      <td>0.748335</td>\n",
       "      <td>0.556791</td>\n",
       "      <td>0.936020</td>\n",
       "      <td>0.309689</td>\n",
       "      <td>0.630071</td>\n",
       "      <td>0.129263</td>\n",
       "      <td>0.688559</td>\n",
       "      <td>0.322336</td>\n",
       "      <td>0.812322</td>\n",
       "      <td>130.367264</td>\n",
       "    </tr>\n",
       "    <tr>\n",
       "      <th>4995</th>\n",
       "      <td>0.099759</td>\n",
       "      <td>0.204540</td>\n",
       "      <td>0.458030</td>\n",
       "      <td>0.541461</td>\n",
       "      <td>0.210590</td>\n",
       "      <td>0.149072</td>\n",
       "      <td>0.235912</td>\n",
       "      <td>0.949228</td>\n",
       "      <td>0.733902</td>\n",
       "      <td>0.900062</td>\n",
       "      <td>0.681355</td>\n",
       "      <td>293.567561</td>\n",
       "    </tr>\n",
       "    <tr>\n",
       "      <th>4996</th>\n",
       "      <td>0.067955</td>\n",
       "      <td>0.535832</td>\n",
       "      <td>0.789917</td>\n",
       "      <td>0.355671</td>\n",
       "      <td>0.708792</td>\n",
       "      <td>0.786499</td>\n",
       "      <td>0.493599</td>\n",
       "      <td>0.612711</td>\n",
       "      <td>0.892152</td>\n",
       "      <td>0.400147</td>\n",
       "      <td>0.942253</td>\n",
       "      <td>265.846487</td>\n",
       "    </tr>\n",
       "    <tr>\n",
       "      <th>4997</th>\n",
       "      <td>0.939288</td>\n",
       "      <td>0.854816</td>\n",
       "      <td>0.060806</td>\n",
       "      <td>0.733868</td>\n",
       "      <td>0.205844</td>\n",
       "      <td>0.958229</td>\n",
       "      <td>0.872695</td>\n",
       "      <td>0.410148</td>\n",
       "      <td>0.446200</td>\n",
       "      <td>0.272260</td>\n",
       "      <td>0.700935</td>\n",
       "      <td>90.571360</td>\n",
       "    </tr>\n",
       "    <tr>\n",
       "      <th>4998</th>\n",
       "      <td>0.174968</td>\n",
       "      <td>0.192618</td>\n",
       "      <td>0.601849</td>\n",
       "      <td>0.754898</td>\n",
       "      <td>0.414362</td>\n",
       "      <td>0.948585</td>\n",
       "      <td>0.947988</td>\n",
       "      <td>0.325859</td>\n",
       "      <td>0.398166</td>\n",
       "      <td>0.978280</td>\n",
       "      <td>0.664399</td>\n",
       "      <td>183.201924</td>\n",
       "    </tr>\n",
       "  </tbody>\n",
       "</table>\n",
       "<p>4999 rows × 12 columns</p>\n",
       "</div>"
      ],
      "text/plain": [
       "            0         1         2         3         4         5         6   \\\n",
       "0     0.652435  0.338497  0.528984  0.929300  0.717652  0.982095  0.288384   \n",
       "1     0.432553  0.295737  0.423880  0.339616  0.712478  0.649861  0.771156   \n",
       "2     0.117110  0.986492  0.993167  0.825934  0.150742  0.243278  0.627288   \n",
       "3     0.815013  0.781523  0.310091  0.457499  0.137949  0.667795  0.327419   \n",
       "4     0.398727  0.547855  0.905359  0.776356  0.535294  0.661335  0.614412   \n",
       "...        ...       ...       ...       ...       ...       ...       ...   \n",
       "4994  0.278034  0.851066  0.748335  0.556791  0.936020  0.309689  0.630071   \n",
       "4995  0.099759  0.204540  0.458030  0.541461  0.210590  0.149072  0.235912   \n",
       "4996  0.067955  0.535832  0.789917  0.355671  0.708792  0.786499  0.493599   \n",
       "4997  0.939288  0.854816  0.060806  0.733868  0.205844  0.958229  0.872695   \n",
       "4998  0.174968  0.192618  0.601849  0.754898  0.414362  0.948585  0.947988   \n",
       "\n",
       "            7         8         9         10          11  \n",
       "0     0.638467  0.456471  0.266632  0.401482  165.554977  \n",
       "1     0.426203  0.954350  0.057775  0.922045  117.870193  \n",
       "2     0.106435  0.022050  0.099280  0.325902  341.659101  \n",
       "3     0.954475  0.559774  0.177299  0.044959  290.170068  \n",
       "4     0.598721  0.661112  0.234714  0.728541  119.954333  \n",
       "...        ...       ...       ...       ...         ...  \n",
       "4994  0.129263  0.688559  0.322336  0.812322  130.367264  \n",
       "4995  0.949228  0.733902  0.900062  0.681355  293.567561  \n",
       "4996  0.612711  0.892152  0.400147  0.942253  265.846487  \n",
       "4997  0.410148  0.446200  0.272260  0.700935   90.571360  \n",
       "4998  0.325859  0.398166  0.978280  0.664399  183.201924  \n",
       "\n",
       "[4999 rows x 12 columns]"
      ]
     },
     "execution_count": 9,
     "metadata": {},
     "output_type": "execute_result"
    }
   ],
   "source": [
    "# Defining X variables for the input\n",
    "X_data = data.iloc[:, 0:13].values\n",
    "Y_data = data.iloc[:, -1].values\n",
    "# X variables:\n",
    "X_data = pd.DataFrame(X_data)\n",
    "X_data"
   ]
  },
  {
   "cell_type": "code",
   "execution_count": 10,
   "metadata": {
    "ExecuteTime": {
     "end_time": "2022-06-09T11:33:16.002860Z",
     "start_time": "2022-06-09T11:33:15.983910Z"
    }
   },
   "outputs": [],
   "source": [
    "# Using Skicit-learn to split data into training and testing sets\n",
    "from sklearn.model_selection import train_test_split\n",
    "# Split the data into training and testing sets\n",
    "X_train, X_test, Y_train, Y_test = train_test_split(X_data, Y_data, test_size = 0.2, random_state = 42)"
   ]
  },
  {
   "cell_type": "code",
   "execution_count": 11,
   "metadata": {},
   "outputs": [
    {
     "data": {
      "text/plain": [
       "\"model = keras.Sequential([\\n    #keras.layers.Dense(256, activation='relu', input_dim=5),\\n    keras.layers.Dense(128, activation=tf.nn.sigmoid),\\n    keras.layers.Dense(64, activation=tf.nn.sigmoid),\\n    keras.layers.Dense(3, activation=tf.nn.sigmoid)\\n])\""
      ]
     },
     "execution_count": 11,
     "metadata": {},
     "output_type": "execute_result"
    }
   ],
   "source": [
    "'''model = keras.Sequential([\n",
    "    #keras.layers.Dense(256, activation='relu', input_dim=5),\n",
    "    keras.layers.Dense(128, activation=tf.nn.sigmoid),\n",
    "    keras.layers.Dense(64, activation=tf.nn.sigmoid),\n",
    "    keras.layers.Dense(3, activation=tf.nn.sigmoid)\n",
    "])'''"
   ]
  },
  {
   "cell_type": "code",
   "execution_count": 12,
   "metadata": {},
   "outputs": [
    {
     "data": {
      "text/plain": [
       "\"model.compile(optimizer='adam',loss='sparse_categorical_crossentropy',metrics=['accuracy'])\""
      ]
     },
     "execution_count": 12,
     "metadata": {},
     "output_type": "execute_result"
    }
   ],
   "source": [
    "'''model.compile(optimizer='adam',loss='sparse_categorical_crossentropy',metrics=['accuracy'])'''"
   ]
  },
  {
   "cell_type": "code",
   "execution_count": 13,
   "metadata": {},
   "outputs": [
    {
     "data": {
      "text/plain": [
       "'model.fit(X_train, Y_train, epochs=5)'"
      ]
     },
     "execution_count": 13,
     "metadata": {},
     "output_type": "execute_result"
    }
   ],
   "source": [
    "'''model.fit(X_train, Y_train, epochs=5)'''"
   ]
  },
  {
   "cell_type": "code",
   "execution_count": 14,
   "metadata": {},
   "outputs": [
    {
     "data": {
      "text/plain": [
       "'est_loss, test_acc = model.evaluate(X_train, Y_train)\\ntest_acc'"
      ]
     },
     "execution_count": 14,
     "metadata": {},
     "output_type": "execute_result"
    }
   ],
   "source": [
    "'''est_loss, test_acc = model.evaluate(X_train, Y_train)\n",
    "test_acc'''"
   ]
  },
  {
   "cell_type": "code",
   "execution_count": null,
   "metadata": {},
   "outputs": [],
   "source": []
  },
  {
   "cell_type": "code",
   "execution_count": null,
   "metadata": {},
   "outputs": [],
   "source": []
  },
  {
   "cell_type": "code",
   "execution_count": null,
   "metadata": {},
   "outputs": [],
   "source": []
  },
  {
   "cell_type": "code",
   "execution_count": 11,
   "metadata": {
    "ExecuteTime": {
     "end_time": "2022-06-09T11:33:28.238220Z",
     "start_time": "2022-06-09T11:33:28.223255Z"
    }
   },
   "outputs": [],
   "source": [
    "from keras.models import Sequential\n",
    "from keras.layers import Dense\n",
    "from keras.wrappers.scikit_learn import KerasRegressor\n",
    "from sklearn.model_selection import cross_val_score\n",
    "from sklearn.model_selection import KFold\n",
    "from sklearn.preprocessing import StandardScaler\n",
    "from sklearn.pipeline import Pipeline"
   ]
  },
  {
   "cell_type": "code",
   "execution_count": 12,
   "metadata": {
    "ExecuteTime": {
     "end_time": "2022-06-09T11:33:29.034090Z",
     "start_time": "2022-06-09T11:33:29.024117Z"
    }
   },
   "outputs": [],
   "source": [
    "# define base model\n",
    "def baseline_model():\n",
    "    # create model\n",
    "    model = Sequential()\n",
    "    model.add(Dense(13, input_dim=13, kernel_initializer='normal', activation='relu'))\n",
    "    model.add(Dense(13, input_dim=128, kernel_initializer='normal', activation='relu'))\n",
    "    model.add(Dense(13, input_dim=64, kernel_initializer='normal', activation='relu'))\n",
    "    model.add(Dense(1, kernel_initializer='normal'))\n",
    "    # Compile model\n",
    "    model.compile(loss='mean_squared_error', optimizer='adam')\n",
    "    return model"
   ]
  },
  {
   "cell_type": "code",
   "execution_count": 13,
   "metadata": {
    "ExecuteTime": {
     "end_time": "2022-06-09T11:33:41.424757Z",
     "start_time": "2022-06-09T11:33:40.556891Z"
    }
   },
   "outputs": [
    {
     "name": "stderr",
     "output_type": "stream",
     "text": [
      "C:\\Users\\utilisateur\\anaconda3\\anaconda\\envs\\project\\lib\\site-packages\\ipykernel_launcher.py:1: DeprecationWarning: KerasRegressor is deprecated, use Sci-Keras (https://github.com/adriangb/scikeras) instead. See https://www.adriangb.com/scikeras/stable/migration.html for help migrating.\n",
      "  \"\"\"Entry point for launching an IPython kernel.\n"
     ]
    },
    {
     "name": "stdout",
     "output_type": "stream",
     "text": [
      "Results: nan (nan) MSE\n"
     ]
    },
    {
     "name": "stderr",
     "output_type": "stream",
     "text": [
      "C:\\Users\\utilisateur\\anaconda3\\anaconda\\envs\\project\\lib\\site-packages\\sklearn\\model_selection\\_validation.py:372: FitFailedWarning: \n",
      "10 fits failed out of a total of 10.\n",
      "The score on these train-test partitions for these parameters will be set to nan.\n",
      "If these failures are not expected, you can try to debug them by setting error_score='raise'.\n",
      "\n",
      "Below are more details about the failures:\n",
      "--------------------------------------------------------------------------------\n",
      "1 fits failed with the following error:\n",
      "Traceback (most recent call last):\n",
      "  File \"C:\\Users\\utilisateur\\anaconda3\\anaconda\\envs\\project\\lib\\site-packages\\sklearn\\model_selection\\_validation.py\", line 680, in _fit_and_score\n",
      "    estimator.fit(X_train, y_train, **fit_params)\n",
      "  File \"C:\\Users\\utilisateur\\anaconda3\\anaconda\\envs\\project\\lib\\site-packages\\keras\\wrappers\\scikit_learn.py\", line 164, in fit\n",
      "    history = self.model.fit(x, y, **fit_args)\n",
      "  File \"C:\\Users\\utilisateur\\anaconda3\\anaconda\\envs\\project\\lib\\site-packages\\keras\\utils\\traceback_utils.py\", line 67, in error_handler\n",
      "    raise e.with_traceback(filtered_tb) from None\n",
      "  File \"C:\\Users\\UTILIS~1\\AppData\\Local\\Temp\\__autograph_generated_filexr6qvb35.py\", line 15, in tf__train_function\n",
      "    retval_ = ag__.converted_call(ag__.ld(step_function), (ag__.ld(self), ag__.ld(iterator)), None, fscope)\n",
      "ValueError: in user code:\n",
      "\n",
      "    File \"C:\\Users\\utilisateur\\anaconda3\\anaconda\\envs\\project\\lib\\site-packages\\keras\\engine\\training.py\", line 1051, in train_function  *\n",
      "        return step_function(self, iterator)\n",
      "    File \"C:\\Users\\utilisateur\\anaconda3\\anaconda\\envs\\project\\lib\\site-packages\\keras\\engine\\training.py\", line 1040, in step_function  **\n",
      "        outputs = model.distribute_strategy.run(run_step, args=(data,))\n",
      "    File \"C:\\Users\\utilisateur\\anaconda3\\anaconda\\envs\\project\\lib\\site-packages\\keras\\engine\\training.py\", line 1030, in run_step  **\n",
      "        outputs = model.train_step(data)\n",
      "    File \"C:\\Users\\utilisateur\\anaconda3\\anaconda\\envs\\project\\lib\\site-packages\\keras\\engine\\training.py\", line 889, in train_step\n",
      "        y_pred = self(x, training=True)\n",
      "    File \"C:\\Users\\utilisateur\\anaconda3\\anaconda\\envs\\project\\lib\\site-packages\\keras\\utils\\traceback_utils.py\", line 67, in error_handler\n",
      "        raise e.with_traceback(filtered_tb) from None\n",
      "    File \"C:\\Users\\utilisateur\\anaconda3\\anaconda\\envs\\project\\lib\\site-packages\\keras\\engine\\input_spec.py\", line 264, in assert_input_compatibility\n",
      "        raise ValueError(f'Input {input_index} of layer \"{layer_name}\" is '\n",
      "\n",
      "    ValueError: Input 0 of layer \"sequential\" is incompatible with the layer: expected shape=(None, 13), found shape=(None, 12)\n",
      "\n",
      "\n",
      "--------------------------------------------------------------------------------\n",
      "1 fits failed with the following error:\n",
      "Traceback (most recent call last):\n",
      "  File \"C:\\Users\\utilisateur\\anaconda3\\anaconda\\envs\\project\\lib\\site-packages\\sklearn\\model_selection\\_validation.py\", line 680, in _fit_and_score\n",
      "    estimator.fit(X_train, y_train, **fit_params)\n",
      "  File \"C:\\Users\\utilisateur\\anaconda3\\anaconda\\envs\\project\\lib\\site-packages\\keras\\wrappers\\scikit_learn.py\", line 164, in fit\n",
      "    history = self.model.fit(x, y, **fit_args)\n",
      "  File \"C:\\Users\\utilisateur\\anaconda3\\anaconda\\envs\\project\\lib\\site-packages\\keras\\utils\\traceback_utils.py\", line 67, in error_handler\n",
      "    raise e.with_traceback(filtered_tb) from None\n",
      "  File \"C:\\Users\\UTILIS~1\\AppData\\Local\\Temp\\__autograph_generated_filexr6qvb35.py\", line 15, in tf__train_function\n",
      "    retval_ = ag__.converted_call(ag__.ld(step_function), (ag__.ld(self), ag__.ld(iterator)), None, fscope)\n",
      "ValueError: in user code:\n",
      "\n",
      "    File \"C:\\Users\\utilisateur\\anaconda3\\anaconda\\envs\\project\\lib\\site-packages\\keras\\engine\\training.py\", line 1051, in train_function  *\n",
      "        return step_function(self, iterator)\n",
      "    File \"C:\\Users\\utilisateur\\anaconda3\\anaconda\\envs\\project\\lib\\site-packages\\keras\\engine\\training.py\", line 1040, in step_function  **\n",
      "        outputs = model.distribute_strategy.run(run_step, args=(data,))\n",
      "    File \"C:\\Users\\utilisateur\\anaconda3\\anaconda\\envs\\project\\lib\\site-packages\\keras\\engine\\training.py\", line 1030, in run_step  **\n",
      "        outputs = model.train_step(data)\n",
      "    File \"C:\\Users\\utilisateur\\anaconda3\\anaconda\\envs\\project\\lib\\site-packages\\keras\\engine\\training.py\", line 889, in train_step\n",
      "        y_pred = self(x, training=True)\n",
      "    File \"C:\\Users\\utilisateur\\anaconda3\\anaconda\\envs\\project\\lib\\site-packages\\keras\\utils\\traceback_utils.py\", line 67, in error_handler\n",
      "        raise e.with_traceback(filtered_tb) from None\n",
      "    File \"C:\\Users\\utilisateur\\anaconda3\\anaconda\\envs\\project\\lib\\site-packages\\keras\\engine\\input_spec.py\", line 264, in assert_input_compatibility\n",
      "        raise ValueError(f'Input {input_index} of layer \"{layer_name}\" is '\n",
      "\n",
      "    ValueError: Input 0 of layer \"sequential_1\" is incompatible with the layer: expected shape=(None, 13), found shape=(None, 12)\n",
      "\n",
      "\n",
      "--------------------------------------------------------------------------------\n",
      "1 fits failed with the following error:\n",
      "Traceback (most recent call last):\n",
      "  File \"C:\\Users\\utilisateur\\anaconda3\\anaconda\\envs\\project\\lib\\site-packages\\sklearn\\model_selection\\_validation.py\", line 680, in _fit_and_score\n",
      "    estimator.fit(X_train, y_train, **fit_params)\n",
      "  File \"C:\\Users\\utilisateur\\anaconda3\\anaconda\\envs\\project\\lib\\site-packages\\keras\\wrappers\\scikit_learn.py\", line 164, in fit\n",
      "    history = self.model.fit(x, y, **fit_args)\n",
      "  File \"C:\\Users\\utilisateur\\anaconda3\\anaconda\\envs\\project\\lib\\site-packages\\keras\\utils\\traceback_utils.py\", line 67, in error_handler\n",
      "    raise e.with_traceback(filtered_tb) from None\n",
      "  File \"C:\\Users\\UTILIS~1\\AppData\\Local\\Temp\\__autograph_generated_filexr6qvb35.py\", line 15, in tf__train_function\n",
      "    retval_ = ag__.converted_call(ag__.ld(step_function), (ag__.ld(self), ag__.ld(iterator)), None, fscope)\n",
      "ValueError: in user code:\n",
      "\n",
      "    File \"C:\\Users\\utilisateur\\anaconda3\\anaconda\\envs\\project\\lib\\site-packages\\keras\\engine\\training.py\", line 1051, in train_function  *\n",
      "        return step_function(self, iterator)\n",
      "    File \"C:\\Users\\utilisateur\\anaconda3\\anaconda\\envs\\project\\lib\\site-packages\\keras\\engine\\training.py\", line 1040, in step_function  **\n",
      "        outputs = model.distribute_strategy.run(run_step, args=(data,))\n",
      "    File \"C:\\Users\\utilisateur\\anaconda3\\anaconda\\envs\\project\\lib\\site-packages\\keras\\engine\\training.py\", line 1030, in run_step  **\n",
      "        outputs = model.train_step(data)\n",
      "    File \"C:\\Users\\utilisateur\\anaconda3\\anaconda\\envs\\project\\lib\\site-packages\\keras\\engine\\training.py\", line 889, in train_step\n",
      "        y_pred = self(x, training=True)\n",
      "    File \"C:\\Users\\utilisateur\\anaconda3\\anaconda\\envs\\project\\lib\\site-packages\\keras\\utils\\traceback_utils.py\", line 67, in error_handler\n",
      "        raise e.with_traceback(filtered_tb) from None\n",
      "    File \"C:\\Users\\utilisateur\\anaconda3\\anaconda\\envs\\project\\lib\\site-packages\\keras\\engine\\input_spec.py\", line 264, in assert_input_compatibility\n",
      "        raise ValueError(f'Input {input_index} of layer \"{layer_name}\" is '\n",
      "\n",
      "    ValueError: Input 0 of layer \"sequential_2\" is incompatible with the layer: expected shape=(None, 13), found shape=(None, 12)\n",
      "\n",
      "\n",
      "--------------------------------------------------------------------------------\n",
      "1 fits failed with the following error:\n",
      "Traceback (most recent call last):\n",
      "  File \"C:\\Users\\utilisateur\\anaconda3\\anaconda\\envs\\project\\lib\\site-packages\\sklearn\\model_selection\\_validation.py\", line 680, in _fit_and_score\n",
      "    estimator.fit(X_train, y_train, **fit_params)\n",
      "  File \"C:\\Users\\utilisateur\\anaconda3\\anaconda\\envs\\project\\lib\\site-packages\\keras\\wrappers\\scikit_learn.py\", line 164, in fit\n",
      "    history = self.model.fit(x, y, **fit_args)\n",
      "  File \"C:\\Users\\utilisateur\\anaconda3\\anaconda\\envs\\project\\lib\\site-packages\\keras\\utils\\traceback_utils.py\", line 67, in error_handler\n",
      "    raise e.with_traceback(filtered_tb) from None\n",
      "  File \"C:\\Users\\UTILIS~1\\AppData\\Local\\Temp\\__autograph_generated_filexr6qvb35.py\", line 15, in tf__train_function\n",
      "    retval_ = ag__.converted_call(ag__.ld(step_function), (ag__.ld(self), ag__.ld(iterator)), None, fscope)\n",
      "ValueError: in user code:\n",
      "\n",
      "    File \"C:\\Users\\utilisateur\\anaconda3\\anaconda\\envs\\project\\lib\\site-packages\\keras\\engine\\training.py\", line 1051, in train_function  *\n",
      "        return step_function(self, iterator)\n",
      "    File \"C:\\Users\\utilisateur\\anaconda3\\anaconda\\envs\\project\\lib\\site-packages\\keras\\engine\\training.py\", line 1040, in step_function  **\n",
      "        outputs = model.distribute_strategy.run(run_step, args=(data,))\n",
      "    File \"C:\\Users\\utilisateur\\anaconda3\\anaconda\\envs\\project\\lib\\site-packages\\keras\\engine\\training.py\", line 1030, in run_step  **\n",
      "        outputs = model.train_step(data)\n",
      "    File \"C:\\Users\\utilisateur\\anaconda3\\anaconda\\envs\\project\\lib\\site-packages\\keras\\engine\\training.py\", line 889, in train_step\n",
      "        y_pred = self(x, training=True)\n",
      "    File \"C:\\Users\\utilisateur\\anaconda3\\anaconda\\envs\\project\\lib\\site-packages\\keras\\utils\\traceback_utils.py\", line 67, in error_handler\n",
      "        raise e.with_traceback(filtered_tb) from None\n",
      "    File \"C:\\Users\\utilisateur\\anaconda3\\anaconda\\envs\\project\\lib\\site-packages\\keras\\engine\\input_spec.py\", line 264, in assert_input_compatibility\n",
      "        raise ValueError(f'Input {input_index} of layer \"{layer_name}\" is '\n",
      "\n",
      "    ValueError: Input 0 of layer \"sequential_3\" is incompatible with the layer: expected shape=(None, 13), found shape=(None, 12)\n",
      "\n",
      "\n",
      "--------------------------------------------------------------------------------\n",
      "1 fits failed with the following error:\n",
      "Traceback (most recent call last):\n",
      "  File \"C:\\Users\\utilisateur\\anaconda3\\anaconda\\envs\\project\\lib\\site-packages\\sklearn\\model_selection\\_validation.py\", line 680, in _fit_and_score\n",
      "    estimator.fit(X_train, y_train, **fit_params)\n",
      "  File \"C:\\Users\\utilisateur\\anaconda3\\anaconda\\envs\\project\\lib\\site-packages\\keras\\wrappers\\scikit_learn.py\", line 164, in fit\n",
      "    history = self.model.fit(x, y, **fit_args)\n",
      "  File \"C:\\Users\\utilisateur\\anaconda3\\anaconda\\envs\\project\\lib\\site-packages\\keras\\utils\\traceback_utils.py\", line 67, in error_handler\n",
      "    raise e.with_traceback(filtered_tb) from None\n",
      "  File \"C:\\Users\\UTILIS~1\\AppData\\Local\\Temp\\__autograph_generated_filexr6qvb35.py\", line 15, in tf__train_function\n",
      "    retval_ = ag__.converted_call(ag__.ld(step_function), (ag__.ld(self), ag__.ld(iterator)), None, fscope)\n",
      "ValueError: in user code:\n",
      "\n",
      "    File \"C:\\Users\\utilisateur\\anaconda3\\anaconda\\envs\\project\\lib\\site-packages\\keras\\engine\\training.py\", line 1051, in train_function  *\n",
      "        return step_function(self, iterator)\n",
      "    File \"C:\\Users\\utilisateur\\anaconda3\\anaconda\\envs\\project\\lib\\site-packages\\keras\\engine\\training.py\", line 1040, in step_function  **\n",
      "        outputs = model.distribute_strategy.run(run_step, args=(data,))\n",
      "    File \"C:\\Users\\utilisateur\\anaconda3\\anaconda\\envs\\project\\lib\\site-packages\\keras\\engine\\training.py\", line 1030, in run_step  **\n",
      "        outputs = model.train_step(data)\n",
      "    File \"C:\\Users\\utilisateur\\anaconda3\\anaconda\\envs\\project\\lib\\site-packages\\keras\\engine\\training.py\", line 889, in train_step\n",
      "        y_pred = self(x, training=True)\n",
      "    File \"C:\\Users\\utilisateur\\anaconda3\\anaconda\\envs\\project\\lib\\site-packages\\keras\\utils\\traceback_utils.py\", line 67, in error_handler\n",
      "        raise e.with_traceback(filtered_tb) from None\n",
      "    File \"C:\\Users\\utilisateur\\anaconda3\\anaconda\\envs\\project\\lib\\site-packages\\keras\\engine\\input_spec.py\", line 264, in assert_input_compatibility\n",
      "        raise ValueError(f'Input {input_index} of layer \"{layer_name}\" is '\n",
      "\n",
      "    ValueError: Input 0 of layer \"sequential_4\" is incompatible with the layer: expected shape=(None, 13), found shape=(None, 12)\n",
      "\n",
      "\n",
      "--------------------------------------------------------------------------------\n",
      "1 fits failed with the following error:\n",
      "Traceback (most recent call last):\n",
      "  File \"C:\\Users\\utilisateur\\anaconda3\\anaconda\\envs\\project\\lib\\site-packages\\sklearn\\model_selection\\_validation.py\", line 680, in _fit_and_score\n",
      "    estimator.fit(X_train, y_train, **fit_params)\n",
      "  File \"C:\\Users\\utilisateur\\anaconda3\\anaconda\\envs\\project\\lib\\site-packages\\keras\\wrappers\\scikit_learn.py\", line 164, in fit\n",
      "    history = self.model.fit(x, y, **fit_args)\n",
      "  File \"C:\\Users\\utilisateur\\anaconda3\\anaconda\\envs\\project\\lib\\site-packages\\keras\\utils\\traceback_utils.py\", line 67, in error_handler\n",
      "    raise e.with_traceback(filtered_tb) from None\n",
      "  File \"C:\\Users\\UTILIS~1\\AppData\\Local\\Temp\\__autograph_generated_filexr6qvb35.py\", line 15, in tf__train_function\n",
      "    retval_ = ag__.converted_call(ag__.ld(step_function), (ag__.ld(self), ag__.ld(iterator)), None, fscope)\n",
      "ValueError: in user code:\n",
      "\n",
      "    File \"C:\\Users\\utilisateur\\anaconda3\\anaconda\\envs\\project\\lib\\site-packages\\keras\\engine\\training.py\", line 1051, in train_function  *\n",
      "        return step_function(self, iterator)\n",
      "    File \"C:\\Users\\utilisateur\\anaconda3\\anaconda\\envs\\project\\lib\\site-packages\\keras\\engine\\training.py\", line 1040, in step_function  **\n",
      "        outputs = model.distribute_strategy.run(run_step, args=(data,))\n",
      "    File \"C:\\Users\\utilisateur\\anaconda3\\anaconda\\envs\\project\\lib\\site-packages\\keras\\engine\\training.py\", line 1030, in run_step  **\n",
      "        outputs = model.train_step(data)\n",
      "    File \"C:\\Users\\utilisateur\\anaconda3\\anaconda\\envs\\project\\lib\\site-packages\\keras\\engine\\training.py\", line 889, in train_step\n",
      "        y_pred = self(x, training=True)\n",
      "    File \"C:\\Users\\utilisateur\\anaconda3\\anaconda\\envs\\project\\lib\\site-packages\\keras\\utils\\traceback_utils.py\", line 67, in error_handler\n",
      "        raise e.with_traceback(filtered_tb) from None\n",
      "    File \"C:\\Users\\utilisateur\\anaconda3\\anaconda\\envs\\project\\lib\\site-packages\\keras\\engine\\input_spec.py\", line 264, in assert_input_compatibility\n",
      "        raise ValueError(f'Input {input_index} of layer \"{layer_name}\" is '\n",
      "\n",
      "    ValueError: Input 0 of layer \"sequential_5\" is incompatible with the layer: expected shape=(None, 13), found shape=(None, 12)\n",
      "\n",
      "\n",
      "--------------------------------------------------------------------------------\n",
      "1 fits failed with the following error:\n",
      "Traceback (most recent call last):\n",
      "  File \"C:\\Users\\utilisateur\\anaconda3\\anaconda\\envs\\project\\lib\\site-packages\\sklearn\\model_selection\\_validation.py\", line 680, in _fit_and_score\n",
      "    estimator.fit(X_train, y_train, **fit_params)\n",
      "  File \"C:\\Users\\utilisateur\\anaconda3\\anaconda\\envs\\project\\lib\\site-packages\\keras\\wrappers\\scikit_learn.py\", line 164, in fit\n",
      "    history = self.model.fit(x, y, **fit_args)\n",
      "  File \"C:\\Users\\utilisateur\\anaconda3\\anaconda\\envs\\project\\lib\\site-packages\\keras\\utils\\traceback_utils.py\", line 67, in error_handler\n",
      "    raise e.with_traceback(filtered_tb) from None\n",
      "  File \"C:\\Users\\UTILIS~1\\AppData\\Local\\Temp\\__autograph_generated_filexr6qvb35.py\", line 15, in tf__train_function\n",
      "    retval_ = ag__.converted_call(ag__.ld(step_function), (ag__.ld(self), ag__.ld(iterator)), None, fscope)\n",
      "ValueError: in user code:\n",
      "\n",
      "    File \"C:\\Users\\utilisateur\\anaconda3\\anaconda\\envs\\project\\lib\\site-packages\\keras\\engine\\training.py\", line 1051, in train_function  *\n",
      "        return step_function(self, iterator)\n",
      "    File \"C:\\Users\\utilisateur\\anaconda3\\anaconda\\envs\\project\\lib\\site-packages\\keras\\engine\\training.py\", line 1040, in step_function  **\n",
      "        outputs = model.distribute_strategy.run(run_step, args=(data,))\n",
      "    File \"C:\\Users\\utilisateur\\anaconda3\\anaconda\\envs\\project\\lib\\site-packages\\keras\\engine\\training.py\", line 1030, in run_step  **\n",
      "        outputs = model.train_step(data)\n",
      "    File \"C:\\Users\\utilisateur\\anaconda3\\anaconda\\envs\\project\\lib\\site-packages\\keras\\engine\\training.py\", line 889, in train_step\n",
      "        y_pred = self(x, training=True)\n",
      "    File \"C:\\Users\\utilisateur\\anaconda3\\anaconda\\envs\\project\\lib\\site-packages\\keras\\utils\\traceback_utils.py\", line 67, in error_handler\n",
      "        raise e.with_traceback(filtered_tb) from None\n",
      "    File \"C:\\Users\\utilisateur\\anaconda3\\anaconda\\envs\\project\\lib\\site-packages\\keras\\engine\\input_spec.py\", line 264, in assert_input_compatibility\n",
      "        raise ValueError(f'Input {input_index} of layer \"{layer_name}\" is '\n",
      "\n",
      "    ValueError: Input 0 of layer \"sequential_6\" is incompatible with the layer: expected shape=(None, 13), found shape=(None, 12)\n",
      "\n",
      "\n",
      "--------------------------------------------------------------------------------\n",
      "1 fits failed with the following error:\n",
      "Traceback (most recent call last):\n",
      "  File \"C:\\Users\\utilisateur\\anaconda3\\anaconda\\envs\\project\\lib\\site-packages\\sklearn\\model_selection\\_validation.py\", line 680, in _fit_and_score\n",
      "    estimator.fit(X_train, y_train, **fit_params)\n",
      "  File \"C:\\Users\\utilisateur\\anaconda3\\anaconda\\envs\\project\\lib\\site-packages\\keras\\wrappers\\scikit_learn.py\", line 164, in fit\n",
      "    history = self.model.fit(x, y, **fit_args)\n",
      "  File \"C:\\Users\\utilisateur\\anaconda3\\anaconda\\envs\\project\\lib\\site-packages\\keras\\utils\\traceback_utils.py\", line 67, in error_handler\n",
      "    raise e.with_traceback(filtered_tb) from None\n",
      "  File \"C:\\Users\\UTILIS~1\\AppData\\Local\\Temp\\__autograph_generated_filexr6qvb35.py\", line 15, in tf__train_function\n",
      "    retval_ = ag__.converted_call(ag__.ld(step_function), (ag__.ld(self), ag__.ld(iterator)), None, fscope)\n",
      "ValueError: in user code:\n",
      "\n",
      "    File \"C:\\Users\\utilisateur\\anaconda3\\anaconda\\envs\\project\\lib\\site-packages\\keras\\engine\\training.py\", line 1051, in train_function  *\n",
      "        return step_function(self, iterator)\n",
      "    File \"C:\\Users\\utilisateur\\anaconda3\\anaconda\\envs\\project\\lib\\site-packages\\keras\\engine\\training.py\", line 1040, in step_function  **\n",
      "        outputs = model.distribute_strategy.run(run_step, args=(data,))\n",
      "    File \"C:\\Users\\utilisateur\\anaconda3\\anaconda\\envs\\project\\lib\\site-packages\\keras\\engine\\training.py\", line 1030, in run_step  **\n",
      "        outputs = model.train_step(data)\n",
      "    File \"C:\\Users\\utilisateur\\anaconda3\\anaconda\\envs\\project\\lib\\site-packages\\keras\\engine\\training.py\", line 889, in train_step\n",
      "        y_pred = self(x, training=True)\n",
      "    File \"C:\\Users\\utilisateur\\anaconda3\\anaconda\\envs\\project\\lib\\site-packages\\keras\\utils\\traceback_utils.py\", line 67, in error_handler\n",
      "        raise e.with_traceback(filtered_tb) from None\n",
      "    File \"C:\\Users\\utilisateur\\anaconda3\\anaconda\\envs\\project\\lib\\site-packages\\keras\\engine\\input_spec.py\", line 264, in assert_input_compatibility\n",
      "        raise ValueError(f'Input {input_index} of layer \"{layer_name}\" is '\n",
      "\n",
      "    ValueError: Input 0 of layer \"sequential_7\" is incompatible with the layer: expected shape=(None, 13), found shape=(None, 12)\n",
      "\n",
      "\n",
      "--------------------------------------------------------------------------------\n",
      "1 fits failed with the following error:\n",
      "Traceback (most recent call last):\n",
      "  File \"C:\\Users\\utilisateur\\anaconda3\\anaconda\\envs\\project\\lib\\site-packages\\sklearn\\model_selection\\_validation.py\", line 680, in _fit_and_score\n",
      "    estimator.fit(X_train, y_train, **fit_params)\n",
      "  File \"C:\\Users\\utilisateur\\anaconda3\\anaconda\\envs\\project\\lib\\site-packages\\keras\\wrappers\\scikit_learn.py\", line 164, in fit\n",
      "    history = self.model.fit(x, y, **fit_args)\n",
      "  File \"C:\\Users\\utilisateur\\anaconda3\\anaconda\\envs\\project\\lib\\site-packages\\keras\\utils\\traceback_utils.py\", line 67, in error_handler\n",
      "    raise e.with_traceback(filtered_tb) from None\n",
      "  File \"C:\\Users\\UTILIS~1\\AppData\\Local\\Temp\\__autograph_generated_filexr6qvb35.py\", line 15, in tf__train_function\n",
      "    retval_ = ag__.converted_call(ag__.ld(step_function), (ag__.ld(self), ag__.ld(iterator)), None, fscope)\n",
      "ValueError: in user code:\n",
      "\n",
      "    File \"C:\\Users\\utilisateur\\anaconda3\\anaconda\\envs\\project\\lib\\site-packages\\keras\\engine\\training.py\", line 1051, in train_function  *\n",
      "        return step_function(self, iterator)\n",
      "    File \"C:\\Users\\utilisateur\\anaconda3\\anaconda\\envs\\project\\lib\\site-packages\\keras\\engine\\training.py\", line 1040, in step_function  **\n",
      "        outputs = model.distribute_strategy.run(run_step, args=(data,))\n",
      "    File \"C:\\Users\\utilisateur\\anaconda3\\anaconda\\envs\\project\\lib\\site-packages\\keras\\engine\\training.py\", line 1030, in run_step  **\n",
      "        outputs = model.train_step(data)\n",
      "    File \"C:\\Users\\utilisateur\\anaconda3\\anaconda\\envs\\project\\lib\\site-packages\\keras\\engine\\training.py\", line 889, in train_step\n",
      "        y_pred = self(x, training=True)\n",
      "    File \"C:\\Users\\utilisateur\\anaconda3\\anaconda\\envs\\project\\lib\\site-packages\\keras\\utils\\traceback_utils.py\", line 67, in error_handler\n",
      "        raise e.with_traceback(filtered_tb) from None\n",
      "    File \"C:\\Users\\utilisateur\\anaconda3\\anaconda\\envs\\project\\lib\\site-packages\\keras\\engine\\input_spec.py\", line 264, in assert_input_compatibility\n",
      "        raise ValueError(f'Input {input_index} of layer \"{layer_name}\" is '\n",
      "\n",
      "    ValueError: Input 0 of layer \"sequential_8\" is incompatible with the layer: expected shape=(None, 13), found shape=(None, 12)\n",
      "\n",
      "\n",
      "--------------------------------------------------------------------------------\n",
      "1 fits failed with the following error:\n",
      "Traceback (most recent call last):\n",
      "  File \"C:\\Users\\utilisateur\\anaconda3\\anaconda\\envs\\project\\lib\\site-packages\\sklearn\\model_selection\\_validation.py\", line 680, in _fit_and_score\n",
      "    estimator.fit(X_train, y_train, **fit_params)\n",
      "  File \"C:\\Users\\utilisateur\\anaconda3\\anaconda\\envs\\project\\lib\\site-packages\\keras\\wrappers\\scikit_learn.py\", line 164, in fit\n",
      "    history = self.model.fit(x, y, **fit_args)\n",
      "  File \"C:\\Users\\utilisateur\\anaconda3\\anaconda\\envs\\project\\lib\\site-packages\\keras\\utils\\traceback_utils.py\", line 67, in error_handler\n",
      "    raise e.with_traceback(filtered_tb) from None\n",
      "  File \"C:\\Users\\UTILIS~1\\AppData\\Local\\Temp\\__autograph_generated_filexr6qvb35.py\", line 15, in tf__train_function\n",
      "    retval_ = ag__.converted_call(ag__.ld(step_function), (ag__.ld(self), ag__.ld(iterator)), None, fscope)\n",
      "ValueError: in user code:\n",
      "\n",
      "    File \"C:\\Users\\utilisateur\\anaconda3\\anaconda\\envs\\project\\lib\\site-packages\\keras\\engine\\training.py\", line 1051, in train_function  *\n",
      "        return step_function(self, iterator)\n",
      "    File \"C:\\Users\\utilisateur\\anaconda3\\anaconda\\envs\\project\\lib\\site-packages\\keras\\engine\\training.py\", line 1040, in step_function  **\n",
      "        outputs = model.distribute_strategy.run(run_step, args=(data,))\n",
      "    File \"C:\\Users\\utilisateur\\anaconda3\\anaconda\\envs\\project\\lib\\site-packages\\keras\\engine\\training.py\", line 1030, in run_step  **\n",
      "        outputs = model.train_step(data)\n",
      "    File \"C:\\Users\\utilisateur\\anaconda3\\anaconda\\envs\\project\\lib\\site-packages\\keras\\engine\\training.py\", line 889, in train_step\n",
      "        y_pred = self(x, training=True)\n",
      "    File \"C:\\Users\\utilisateur\\anaconda3\\anaconda\\envs\\project\\lib\\site-packages\\keras\\utils\\traceback_utils.py\", line 67, in error_handler\n",
      "        raise e.with_traceback(filtered_tb) from None\n",
      "    File \"C:\\Users\\utilisateur\\anaconda3\\anaconda\\envs\\project\\lib\\site-packages\\keras\\engine\\input_spec.py\", line 264, in assert_input_compatibility\n",
      "        raise ValueError(f'Input {input_index} of layer \"{layer_name}\" is '\n",
      "\n",
      "    ValueError: Input 0 of layer \"sequential_9\" is incompatible with the layer: expected shape=(None, 13), found shape=(5, 12)\n",
      "\n",
      "\n",
      "  warnings.warn(some_fits_failed_message, FitFailedWarning)\n"
     ]
    }
   ],
   "source": [
    "estimator = KerasRegressor(build_fn=baseline_model, epochs=100, batch_size=5, verbose=0)\n",
    "kfold = KFold(n_splits=10)\n",
    "results = cross_val_score(estimator, X_train, Y_train, cv=kfold)\n",
    "print(\"Results: %.2f (%.2f) MSE\" % (results.mean(), results.std()))"
   ]
  },
  {
   "cell_type": "code",
   "execution_count": 14,
   "metadata": {
    "ExecuteTime": {
     "end_time": "2022-06-09T11:33:49.956411Z",
     "start_time": "2022-06-09T11:33:49.721995Z"
    }
   },
   "outputs": [
    {
     "ename": "NameError",
     "evalue": "name 'model' is not defined",
     "output_type": "error",
     "traceback": [
      "\u001b[1;31m---------------------------------------------------------------------------\u001b[0m",
      "\u001b[1;31mNameError\u001b[0m                                 Traceback (most recent call last)",
      "\u001b[1;32m~\\AppData\\Local\\Temp\\ipykernel_44292\\1973620632.py\u001b[0m in \u001b[0;36m<module>\u001b[1;34m\u001b[0m\n\u001b[1;32m----> 1\u001b[1;33m \u001b[0mscore\u001b[0m \u001b[1;33m=\u001b[0m \u001b[0mmodel\u001b[0m\u001b[1;33m.\u001b[0m\u001b[0mevaluate\u001b[0m\u001b[1;33m(\u001b[0m\u001b[0mX_test\u001b[0m\u001b[1;33m,\u001b[0m \u001b[0my_test\u001b[0m\u001b[1;33m,\u001b[0m \u001b[0mverbose\u001b[0m\u001b[1;33m=\u001b[0m\u001b[1;36m0\u001b[0m\u001b[1;33m)\u001b[0m\u001b[1;33m\u001b[0m\u001b[1;33m\u001b[0m\u001b[0m\n\u001b[0m\u001b[0;32m      2\u001b[0m \u001b[0mprint\u001b[0m\u001b[1;33m(\u001b[0m\u001b[1;34m'Test loss:'\u001b[0m\u001b[1;33m,\u001b[0m \u001b[0mscore\u001b[0m\u001b[1;33m[\u001b[0m\u001b[1;36m0\u001b[0m\u001b[1;33m]\u001b[0m\u001b[1;33m)\u001b[0m\u001b[1;33m\u001b[0m\u001b[1;33m\u001b[0m\u001b[0m\n\u001b[0;32m      3\u001b[0m \u001b[0mprint\u001b[0m\u001b[1;33m(\u001b[0m\u001b[1;34m'Test accuracy:'\u001b[0m\u001b[1;33m,\u001b[0m \u001b[0mscore\u001b[0m\u001b[1;33m[\u001b[0m\u001b[1;36m1\u001b[0m\u001b[1;33m]\u001b[0m\u001b[1;33m)\u001b[0m\u001b[1;33m\u001b[0m\u001b[1;33m\u001b[0m\u001b[0m\n",
      "\u001b[1;31mNameError\u001b[0m: name 'model' is not defined"
     ]
    }
   ],
   "source": [
    "score = model.evaluate(X_test, y_test, verbose=0)\n",
    "print('Test loss:', score[0])\n",
    "print('Test accuracy:', score[1])"
   ]
  },
  {
   "cell_type": "code",
   "execution_count": null,
   "metadata": {},
   "outputs": [],
   "source": []
  },
  {
   "cell_type": "code",
   "execution_count": null,
   "metadata": {},
   "outputs": [],
   "source": []
  },
  {
   "cell_type": "code",
   "execution_count": null,
   "metadata": {},
   "outputs": [],
   "source": []
  },
  {
   "cell_type": "code",
   "execution_count": null,
   "metadata": {},
   "outputs": [],
   "source": []
  },
  {
   "cell_type": "code",
   "execution_count": null,
   "metadata": {},
   "outputs": [],
   "source": []
  },
  {
   "cell_type": "code",
   "execution_count": null,
   "metadata": {},
   "outputs": [],
   "source": []
  },
  {
   "cell_type": "code",
   "execution_count": 15,
   "metadata": {
    "ExecuteTime": {
     "end_time": "2022-06-09T11:33:59.530170Z",
     "start_time": "2022-06-09T11:33:59.521161Z"
    }
   },
   "outputs": [],
   "source": [
    "def initialisation(dimensions):\n",
    "    \n",
    "    parametres = {}\n",
    "    C = len(dimensions)\n",
    "\n",
    "    np.random.seed(1)\n",
    "\n",
    "    for c in range(1, C):\n",
    "        parametres['W' + str(c)] = np.random.randn(dimensions[c], dimensions[c - 1])\n",
    "        parametres['b' + str(c)] = np.random.randn(dimensions[c], 1)\n",
    "\n",
    "    return parametres"
   ]
  },
  {
   "cell_type": "code",
   "execution_count": 16,
   "metadata": {
    "ExecuteTime": {
     "end_time": "2022-06-09T11:34:00.190986Z",
     "start_time": "2022-06-09T11:34:00.179017Z"
    }
   },
   "outputs": [],
   "source": [
    "def forward_propagation(X, parametres):\n",
    "  \n",
    "    activations = {'A0': X}\n",
    "\n",
    "    C = len(parametres) // 2\n",
    "\n",
    "    for c in range(1, C + 1):\n",
    "        Z = parametres['W' + str(c)].dot(activations['A' + str(c - 1)]) + parametres['b' + str(c)]\n",
    "        activations['A' + str(c)] = 1 / (1 + np.exp(-Z))\n",
    "\n",
    "    return activations"
   ]
  },
  {
   "cell_type": "code",
   "execution_count": 17,
   "metadata": {
    "ExecuteTime": {
     "end_time": "2022-06-09T11:34:00.706430Z",
     "start_time": "2022-06-09T11:34:00.698430Z"
    }
   },
   "outputs": [],
   "source": [
    "def back_propagation(y, parametres, activations):\n",
    "\n",
    "    m = y.shape[1]\n",
    "    C = len(parametres) // 2\n",
    "\n",
    "    dZ = activations['A' + str(C)] - y\n",
    "    gradients = {}\n",
    "\n",
    "    for c in reversed(range(1, C + 1)):\n",
    "        gradients['dW' + str(c)] = 1/m * np.dot(dZ, activations['A' + str(c - 1)].T)\n",
    "        gradients['db' + str(c)] = 1/m * np.sum(dZ, axis=1, keepdims=True)\n",
    "        if c > 1:\n",
    "            dZ = np.dot(parametres['W' + str(c)].T, dZ) * activations['A' + str(c - 1)] * (1 - activations['A' + str(c - 1)])\n",
    "\n",
    "    return gradients"
   ]
  },
  {
   "cell_type": "code",
   "execution_count": 18,
   "metadata": {
    "ExecuteTime": {
     "end_time": "2022-06-09T11:34:01.386567Z",
     "start_time": "2022-06-09T11:34:01.372617Z"
    }
   },
   "outputs": [],
   "source": [
    "def update(gradients, parametres, learning_rate):\n",
    "\n",
    "    C = len(parametres) // 2\n",
    "\n",
    "    for c in range(1, C + 1):\n",
    "        parametres['W' + str(c)] = parametres['W' + str(c)] - learning_rate * gradients['dW' + str(c)]\n",
    "        parametres['b' + str(c)] = parametres['b' + str(c)] - learning_rate * gradients['db' + str(c)]\n",
    "\n",
    "    return parametres"
   ]
  },
  {
   "cell_type": "code",
   "execution_count": 19,
   "metadata": {
    "ExecuteTime": {
     "end_time": "2022-06-09T11:34:01.982228Z",
     "start_time": "2022-06-09T11:34:01.972224Z"
    }
   },
   "outputs": [],
   "source": [
    "def predict(X, parametres):\n",
    "    activations = forward_propagation(X, parametres)\n",
    "    C = len(parametres) // 2\n",
    "    Af = activations['A' + str(C)]\n",
    "    return Af >= 0.5"
   ]
  },
  {
   "cell_type": "code",
   "execution_count": 20,
   "metadata": {
    "ExecuteTime": {
     "end_time": "2022-06-09T11:34:02.729785Z",
     "start_time": "2022-06-09T11:34:02.709837Z"
    }
   },
   "outputs": [],
   "source": [
    "def deep_neural_network(X, y, hidden_layers = (16, 16, 16), learning_rate = 0.001, n_iter = 3000):\n",
    "    \n",
    "    # initialisation parametres\n",
    "    dimensions = list(hidden_layers)\n",
    "    dimensions.insert(0, X.shape[0])\n",
    "    dimensions.append(y.shape[0])\n",
    "    np.random.seed(1)\n",
    "    parametres = initialisation(dimensions)\n",
    "\n",
    "    # tableau numpy contenant les futures accuracy et log_loss\n",
    "    training_history = np.zeros((int(n_iter), 2))\n",
    "\n",
    "    C = len(parametres) // 2\n",
    "\n",
    "    # gradient descent\n",
    "    for i in tqdm(range(n_iter)):\n",
    "\n",
    "        activations = forward_propagation(X, parametres)\n",
    "        gradients = back_propagation(y, parametres, activations)\n",
    "        parametres = update(gradients, parametres, learning_rate)\n",
    "        Af = activations['A' + str(C)]\n",
    "\n",
    "        # calcul du log_loss et de l'accuracy\n",
    "        training_history[i, 0] = (log_loss(y.flatten(), Af.flatten()))\n",
    "        y_pred = predict(X, parametres)\n",
    "        training_history[i, 1] = (accuracy_score(y.flatten(), y_pred.flatten()))\n",
    "\n",
    "    # Plot courbe d'apprentissa    plt.figure(figsize=(12, 4))\n",
    "    plt.subplot(1, 2, 1)\n",
    "    plt.plot(training_history[:, 0], label='train loss')\n",
    "    plt.legend()\n",
    "    plt.subplot(1, 2, 2)\n",
    "    plt.plot(training_history[:, 1], label='train acc')\n",
    "    plt.legend()\n",
    "    plt.show()\n",
    "\n",
    "    return training_history"
   ]
  },
  {
   "cell_type": "code",
   "execution_count": null,
   "metadata": {},
   "outputs": [],
   "source": []
  },
  {
   "cell_type": "code",
   "execution_count": null,
   "metadata": {},
   "outputs": [],
   "source": []
  },
  {
   "cell_type": "code",
   "execution_count": null,
   "metadata": {},
   "outputs": [],
   "source": []
  },
  {
   "cell_type": "code",
   "execution_count": null,
   "metadata": {},
   "outputs": [],
   "source": []
  },
  {
   "cell_type": "code",
   "execution_count": null,
   "metadata": {},
   "outputs": [],
   "source": []
  },
  {
   "cell_type": "code",
   "execution_count": null,
   "metadata": {},
   "outputs": [],
   "source": []
  }
 ],
 "metadata": {
  "kernelspec": {
   "display_name": "Python 3 (ipykernel)",
   "language": "python",
   "name": "python3"
  },
  "language_info": {
   "codemirror_mode": {
    "name": "ipython",
    "version": 3
   },
   "file_extension": ".py",
   "mimetype": "text/x-python",
   "name": "python",
   "nbconvert_exporter": "python",
   "pygments_lexer": "ipython3",
   "version": "3.7.13"
  },
  "latex_envs": {
   "LaTeX_envs_menu_present": true,
   "autoclose": false,
   "autocomplete": true,
   "bibliofile": "biblio.bib",
   "cite_by": "apalike",
   "current_citInitial": 1,
   "eqLabelWithNumbers": true,
   "eqNumInitial": 1,
   "hotkeys": {
    "equation": "Ctrl-E",
    "itemize": "Ctrl-I"
   },
   "labels_anchors": false,
   "latex_user_defs": false,
   "report_style_numbering": false,
   "user_envs_cfg": false
  },
  "varInspector": {
   "cols": {
    "lenName": 16,
    "lenType": 16,
    "lenVar": 40
   },
   "kernels_config": {
    "python": {
     "delete_cmd_postfix": "",
     "delete_cmd_prefix": "del ",
     "library": "var_list.py",
     "varRefreshCmd": "print(var_dic_list())"
    },
    "r": {
     "delete_cmd_postfix": ") ",
     "delete_cmd_prefix": "rm(",
     "library": "var_list.r",
     "varRefreshCmd": "cat(var_dic_list()) "
    }
   },
   "types_to_exclude": [
    "module",
    "function",
    "builtin_function_or_method",
    "instance",
    "_Feature"
   ],
   "window_display": false
  }
 },
 "nbformat": 4,
 "nbformat_minor": 4
}
